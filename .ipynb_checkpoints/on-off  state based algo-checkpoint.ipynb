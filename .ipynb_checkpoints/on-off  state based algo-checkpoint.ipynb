{
 "cells": [
  {
   "cell_type": "code",
   "execution_count": 1,
   "metadata": {
    "collapsed": false
   },
   "outputs": [],
   "source": [
    "from scipy import optimize\n",
    "import numpy\n",
    "import pandas as pd\n",
    "import numpy as np"
   ]
  },
  {
   "cell_type": "code",
   "execution_count": 2,
   "metadata": {
    "collapsed": false
   },
   "outputs": [
    {
     "data": {
      "text/html": [
       "<div>\n",
       "<table border=\"1\" class=\"dataframe\">\n",
       "  <thead>\n",
       "    <tr style=\"text-align: right;\">\n",
       "      <th></th>\n",
       "      <th>x1</th>\n",
       "      <th>x2</th>\n",
       "      <th>x3</th>\n",
       "      <th>y</th>\n",
       "    </tr>\n",
       "  </thead>\n",
       "  <tbody>\n",
       "    <tr>\n",
       "      <th>0</th>\n",
       "      <td>0</td>\n",
       "      <td>0</td>\n",
       "      <td>1</td>\n",
       "      <td>62</td>\n",
       "    </tr>\n",
       "    <tr>\n",
       "      <th>1</th>\n",
       "      <td>0</td>\n",
       "      <td>0</td>\n",
       "      <td>1</td>\n",
       "      <td>60</td>\n",
       "    </tr>\n",
       "    <tr>\n",
       "      <th>2</th>\n",
       "      <td>1</td>\n",
       "      <td>0</td>\n",
       "      <td>0</td>\n",
       "      <td>120</td>\n",
       "    </tr>\n",
       "    <tr>\n",
       "      <th>3</th>\n",
       "      <td>0</td>\n",
       "      <td>1</td>\n",
       "      <td>1</td>\n",
       "      <td>380</td>\n",
       "    </tr>\n",
       "    <tr>\n",
       "      <th>4</th>\n",
       "      <td>1</td>\n",
       "      <td>0</td>\n",
       "      <td>1</td>\n",
       "      <td>160</td>\n",
       "    </tr>\n",
       "    <tr>\n",
       "      <th>5</th>\n",
       "      <td>0</td>\n",
       "      <td>1</td>\n",
       "      <td>1</td>\n",
       "      <td>371</td>\n",
       "    </tr>\n",
       "    <tr>\n",
       "      <th>6</th>\n",
       "      <td>1</td>\n",
       "      <td>1</td>\n",
       "      <td>1</td>\n",
       "      <td>469</td>\n",
       "    </tr>\n",
       "    <tr>\n",
       "      <th>7</th>\n",
       "      <td>0</td>\n",
       "      <td>0</td>\n",
       "      <td>1</td>\n",
       "      <td>56</td>\n",
       "    </tr>\n",
       "    <tr>\n",
       "      <th>8</th>\n",
       "      <td>0</td>\n",
       "      <td>1</td>\n",
       "      <td>1</td>\n",
       "      <td>357</td>\n",
       "    </tr>\n",
       "  </tbody>\n",
       "</table>\n",
       "</div>"
      ],
      "text/plain": [
       "   x1  x2  x3    y\n",
       "0   0   0   1   62\n",
       "1   0   0   1   60\n",
       "2   1   0   0  120\n",
       "3   0   1   1  380\n",
       "4   1   0   1  160\n",
       "5   0   1   1  371\n",
       "6   1   1   1  469\n",
       "7   0   0   1   56\n",
       "8   0   1   1  357"
      ]
     },
     "execution_count": 2,
     "metadata": {},
     "output_type": "execute_result"
    }
   ],
   "source": [
    "# generating data\n",
    "data={'x1':[0,0,1,0,1,0,1,0,0],'x2':[0,0,0,1,0,1,1,0,1],'x3':[1,1,0,1,1,1,1,1,1],'y':[62,60,120,380,160,371,469,56,357]}\n",
    "df=pd.DataFrame(data=data)\n",
    "df"
   ]
  },
  {
   "cell_type": "code",
   "execution_count": 8,
   "metadata": {
    "collapsed": false
   },
   "outputs": [],
   "source": [
    "# disaggregation function takes as arguement a dataframe containing the on/off states of all the appliances at all the instances\n",
    "# alongwith the respective aggregate electricity consumption\n",
    "\n",
    "\n",
    "def disagg_chunk(data, weight_for_stationary=False):\n",
    "    num_appliances = data.shape[1]-1\n",
    "    # we need to build a mthod so that this works for arbitrary number of appliances\n",
    "    df=data.groupby(['x1', 'x2','x3']).mean()[\"y\"].reset_index()\n",
    "    df['n']=data.groupby(['x1', 'x2','x3']).count().reset_index()['y']\n",
    "    df['w']=df['n']/df.iloc[:,0:3].sum(axis=1)\n",
    "    W=np.diag(df['w'])\n",
    "    X=np.array(df.iloc[:,0:3])\n",
    "    Y=np.array(df.iloc[:,3])\n",
    "    num=X.T.dot(W.dot(Y))\n",
    "    den=X.T.dot(W.dot(X))\n",
    "    # solving for the estimate of the average power consumption\n",
    "    obj=lambda p: np.linalg.norm(den.dot(p)-num) # probably this objective function is wrong\n",
    "    const={'type': 'ineq', 'fun': lambda p: p>=0 }\n",
    "    po=np.ones(num_appliances)\n",
    "    optim=optimize.minimize(obj,po, constraints=const)\n",
    "    power=optim.x\n",
    "    # solving for the estimate of the variance\n",
    "    # please note that here i am assuming that all the rows of the weighted mean table have satisfy the contraint:n>sum(x)\n",
    "    \n",
    "    if weight_for_stationary:\n",
    "        var= data.groupby(['x1', 'x2','x3']).var()[\"y\"].reset_index()[\"y\"]\n",
    "        term1=df['n']*var\n",
    "        term1=term1[var.dropna().index]\n",
    "        X_notnull=X[var.dropna().index]\n",
    "        term2 =lambda a: ((a.T**2)*X_notnull).sum(axis=1)\n",
    "        obj_var=lambda a: np.linalg.norm((term1-term2(a))/(X_notnull.sum(axis=1)))\n",
    "        const_var={'type': 'ineq', 'fun': lambda a: power**2-a**2>=0}\n",
    "        ao=np.zeros_like(num_appliances)\n",
    "        optim_var=optimize.minimize(obj_var,ao, constraints=const_var)\n",
    "        return optim, optim_var\n",
    "    else:\n",
    "        return optim, None"
   ]
  },
  {
   "cell_type": "code",
   "execution_count": 11,
   "metadata": {
    "collapsed": false
   },
   "outputs": [
    {
     "name": "stdout",
     "output_type": "stream",
     "text": [
      "[ 111.87022851  309.38167961   57.7328243 ]\n"
     ]
    }
   ],
   "source": [
    "optim, optim_var=disagg_chunk(df)\n",
    "print optim.x\n",
    "if optim_var is not None: print optim_var.x"
   ]
  },
  {
   "cell_type": "code",
   "execution_count": null,
   "metadata": {
    "collapsed": true
   },
   "outputs": [],
   "source": []
  }
 ],
 "metadata": {
  "kernelspec": {
   "display_name": "Python 2",
   "language": "python",
   "name": "python2"
  },
  "language_info": {
   "codemirror_mode": {
    "name": "ipython",
    "version": 2
   },
   "file_extension": ".py",
   "mimetype": "text/x-python",
   "name": "python",
   "nbconvert_exporter": "python",
   "pygments_lexer": "ipython2",
   "version": "2.7.11"
  }
 },
 "nbformat": 4,
 "nbformat_minor": 0
}
