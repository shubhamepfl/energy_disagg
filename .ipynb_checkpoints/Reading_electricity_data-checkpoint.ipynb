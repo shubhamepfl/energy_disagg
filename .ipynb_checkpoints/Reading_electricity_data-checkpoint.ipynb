{
 "cells": [
  {
   "cell_type": "code",
   "execution_count": null,
   "metadata": {
    "collapsed": false
   },
   "outputs": [],
   "source": [
    "%matplotlib inline \n",
    "%reset\n",
    "import numpy as np\n",
    "import pandas as pd\n",
    "import matplotlib\n",
    "import matplotlib.pyplot as plt \n",
    "\n",
    "# pd.options.display.mpl_style='default'\n",
    "matplotlib.style.use('ggplot')\n",
    "filename='campus21.log.20151201-20160201.log.gz.csv'\n",
    "# filename='campus21.log.20150427-20150602.log.gz.csv.csv'\n",
    "chunksize= 10**6\n",
    "for chunk in pd.read_csv('./Data/{}'.format(filename), header=0,sep=\";\", chunksize= chunksize):\n",
    "    process(chunk)"
   ]
  },
  {
   "cell_type": "code",
   "execution_count": null,
   "metadata": {
    "collapsed": false
   },
   "outputs": [],
   "source": [
    "df.head()"
   ]
  },
  {
   "cell_type": "code",
   "execution_count": null,
   "metadata": {
    "collapsed": false
   },
   "outputs": [],
   "source": [
    "# setting the index to timestamp\n",
    "df['Timestamp']=pd.to_datetime(df['Timestamp'],)\n",
    "df=df.set_index(['Timestamp'])"
   ]
  },
  {
   "cell_type": "code",
   "execution_count": null,
   "metadata": {
    "collapsed": false
   },
   "outputs": [],
   "source": [
    "#extracting energy values \n",
    "acc_df= df[['Device 1---MOD-EL01-10-65-160-155-ME1','Device 1---MOD-EL02-10-65-160-155-ME1','Device 1---MOD-EL03-10-65-160-155-ME1','Device 1---MOD-EL19-10-65-160-160-ME1','Device 1---MOD-EL20-10-65-160-160-ME2','Device 1---MOD-EL21-10-65-160-160-ME3'\n",
    ",'Device 1---MOD-EL22-10-65-160-161-ME1','Device 1---MOD-EL23-10-65-160-161-ME2','Device 1---MOD-EL24-10-65-160-162-ME10','Device 1---MOD-EL25-10-65-160-162-ME11', 'Device 1---MOD-EL26-10-65-160-162-ME12','Device 1---MOD-EL27-10-65-160-162-ME13','Device 1---MOD-EL07-10-65-160-151-ME1','Device 1---MOD-EL08-10-65-160-151-ME4', 'Device 1---MOD-EL09-10-65-160-152-ME1','Device 1---MOD-EL10-10-65-160-152-ME4','Device 1---MOD-EL11-10-65-160-153-ME1','Device 1---MOD-EL12-10-65-160-153-ME4','Device 1---MOD-EL13-10-65-160-154-ME1','Device 1---MOD-EL14-10-65-160-154-ME4' ,'Device 1---MOD-EL15-10-65-160-162-ME1','Device 1---MOD-EL16-10-65-160-162-ME4','Device 1---MOD-EL18-10-65-160-160-ME4', 'Device 1---MOD-EL17-10-65-160-162-ME7','Device 1---MOD-EL28-10-65-160-156-ME3','Device 1---MOD-EL29-10-65-160-156-ME6','Device 1---MOD-EL15-10-65-160-162-ME3','Device 1---MOD-EL16-10-65-160-162-ME6','Device 1---MOD-EL18-10-65-160-160-ME6']]\n",
    "acc_df.to_excel(\"./Data/quality_check/{}_extracted.xls\".format(filename))\n",
    "acc_df.head()"
   ]
  },
  {
   "cell_type": "code",
   "execution_count": null,
   "metadata": {
    "collapsed": false
   },
   "outputs": [],
   "source": [
    "# since a lot of data was in exponentials, i had to convert it into numerica\n",
    "acc_df=acc_df.convert_objects(convert_numeric=True)\n",
    "acc_df.head()"
   ]
  },
  {
   "cell_type": "code",
   "execution_count": null,
   "metadata": {
    "collapsed": false
   },
   "outputs": [],
   "source": [
    "acc_df.loc[\"2015-10-14\":\"2015-10-20\", \"Device 1---MOD-EL18-10-65-160-160-ME4\"]"
   ]
  },
  {
   "cell_type": "code",
   "execution_count": null,
   "metadata": {
    "collapsed": false
   },
   "outputs": [],
   "source": [
    "# the above readings are accumulative electricity data, so we need to obtain the electriccty consumption in each time step\n",
    "df=acc_df.diff(periods=1)\n",
    "df"
   ]
  },
  {
   "cell_type": "code",
   "execution_count": null,
   "metadata": {
    "collapsed": true
   },
   "outputs": [],
   "source": [
    "# converting all values to kWh \n",
    "df.iloc[:,12:]/=1000"
   ]
  },
  {
   "cell_type": "code",
   "execution_count": null,
   "metadata": {
    "collapsed": false
   },
   "outputs": [],
   "source": [
    "df.head()"
   ]
  },
  {
   "cell_type": "code",
   "execution_count": null,
   "metadata": {
    "collapsed": false
   },
   "outputs": [],
   "source": [
    "df.plot(figsize=(20,6), legend=False)"
   ]
  },
  {
   "cell_type": "code",
   "execution_count": null,
   "metadata": {
    "collapsed": true
   },
   "outputs": [],
   "source": [
    "# we need to write a code to identify good sections in the data ( one's without large gaps in the meter readings)"
   ]
  },
  {
   "cell_type": "code",
   "execution_count": null,
   "metadata": {
    "collapsed": false
   },
   "outputs": [],
   "source": [
    "# a lot of times the meter resets and gets back again; we need\n",
    "\n",
    "df[df<0]=np.nan\n",
    "# this upper limit on main meter to identify absurd data is based on the the estimation that a 5MW plant will consume 80kWh\n",
    "# in a time step of 5 min => 400kWh for the mains meter\n",
    "df[abs(df)>400]=np.nan\n",
    "# For all the other readers the data is reported  in Wh so here we set the upper limit to 400000 Wh \n",
    "# df[abs(df.iloc[:,3:])>400000]=np.nan"
   ]
  },
  {
   "cell_type": "code",
   "execution_count": null,
   "metadata": {
    "collapsed": false
   },
   "outputs": [],
   "source": [
    "df.shape[0]"
   ]
  },
  {
   "cell_type": "code",
   "execution_count": null,
   "metadata": {
    "collapsed": false
   },
   "outputs": [],
   "source": [
    "drop_out=df.isnull().sum()\n",
    "drop_out_rate=drop_out/df.shape[0]\n",
    "d= {'Dropout':drop_out,'Dropout Rate':drop_out_rate}\n",
    "drop_out_perf=pd.DataFrame(d, index=drop_out.index)\n",
    "print drop_out_perf"
   ]
  },
  {
   "cell_type": "code",
   "execution_count": null,
   "metadata": {
    "collapsed": false
   },
   "outputs": [],
   "source": [
    "df.plot(figsize=(20,6),colormap='Accent')\n"
   ]
  },
  {
   "cell_type": "markdown",
   "metadata": {},
   "source": [
    "Exploratory analysis of data"
   ]
  },
  {
   "cell_type": "code",
   "execution_count": null,
   "metadata": {
    "collapsed": true
   },
   "outputs": [],
   "source": [
    "# filling minor drops in the sensor data \n",
    "df=df.fillna(method=\"pad\",limit=2)"
   ]
  },
  {
   "cell_type": "code",
   "execution_count": null,
   "metadata": {
    "collapsed": false
   },
   "outputs": [],
   "source": [
    " # extracting the mains supply meter readings\n",
    "elec_main=df[['Device 1---MOD-EL01-10-65-160-155-ME1','Device 1---MOD-EL02-10-65-160-155-ME1','Device 1---MOD-EL03-10-65-160-155-ME1']]\n",
    "elec_main['energy']=elec_main.sum(axis=1)\n",
    "daily_elec_main=elec_main.groupby(elec_main.index.date).sum()\n",
    "daily_elec_main.plot(kind='bar',figsize=(20,6))\n",
    "plt.xlabel('Days', fontsize= 15)\n",
    "plt.ylabel('kWh', fontsize= 15)\n",
    "plt.title(\"Daily electricity consumption from Mains\")"
   ]
  },
  {
   "cell_type": "code",
   "execution_count": null,
   "metadata": {
    "collapsed": false
   },
   "outputs": [],
   "source": [
    "electricty_consumption_day = daily_elec_main[\"energy\"].mean(axis=0, skipna=True)\n",
    "print electricty_consumption_day,'kWh'"
   ]
  },
  {
   "cell_type": "code",
   "execution_count": null,
   "metadata": {
    "collapsed": false
   },
   "outputs": [],
   "source": [
    "elec_sup=df[['Device 1---MOD-EL19-10-65-160-160-ME1','Device 1---MOD-EL20-10-65-160-160-ME2','Device 1---MOD-EL21-10-65-160-160-ME3'\n",
    ",'Device 1---MOD-EL22-10-65-160-161-ME1','Device 1---MOD-EL23-10-65-160-161-ME2','Device 1---MOD-EL24-10-65-160-162-ME10','Device 1---MOD-EL25-10-65-160-162-ME11', 'Device 1---MOD-EL26-10-65-160-162-ME12','Device 1---MOD-EL27-10-65-160-162-ME13','Device 1---MOD-EL07-10-65-160-151-ME1','Device 1---MOD-EL08-10-65-160-151-ME4', 'Device 1---MOD-EL09-10-65-160-152-ME1','Device 1---MOD-EL10-10-65-160-152-ME4','Device 1---MOD-EL11-10-65-160-153-ME1','Device 1---MOD-EL12-10-65-160-153-ME4','Device 1---MOD-EL13-10-65-160-154-ME1','Device 1---MOD-EL14-10-65-160-154-ME4','Device 1---MOD-EL15-10-65-160-162-ME1','Device 1---MOD-EL16-10-65-160-162-ME4','Device 1---MOD-EL18-10-65-160-160-ME4', 'Device 1---MOD-EL17-10-65-160-162-ME7']]\n",
    "elec_sup['energy_sup']=elec_sup.sum(axis=1, numeric_only=float)"
   ]
  },
  {
   "cell_type": "code",
   "execution_count": null,
   "metadata": {
    "collapsed": false
   },
   "outputs": [],
   "source": [
    "# plotting daily electricity consumption recorded at the supply level \n",
    "daily_elec_sup = elec_sup.groupby(elec_sup.index.date).sum()\n",
    "daily_elec_sup.plot(kind='bar',figsize=(20,6))\n",
    "plt.xlabel('Days', fontsize= 15)\n",
    "plt.ylabel('kWh', fontsize= 15)\n",
    "plt.title(\"Daily electricity consumption from supply\")\n",
    "plt.figure()"
   ]
  },
  {
   "cell_type": "code",
   "execution_count": null,
   "metadata": {
    "collapsed": false
   },
   "outputs": [],
   "source": [
    "electricty_consumption_day_sup = daily_elec_sup[\"energy_sup\"].mean(axis=0, skipna=True)\n",
    "print electricty_consumption_day_sup,'kWh'"
   ]
  },
  {
   "cell_type": "markdown",
   "metadata": {},
   "source": [
    "Analyzing the consumption of floodlights"
   ]
  },
  {
   "cell_type": "code",
   "execution_count": null,
   "metadata": {
    "collapsed": false
   },
   "outputs": [],
   "source": [
    "elec_fl=df[['Device 1---MOD-EL07-10-65-160-151-ME1','Device 1---MOD-EL08-10-65-160-151-ME4', 'Device 1---MOD-EL09-10-65-160-152-ME1','Device 1---MOD-EL10-10-65-160-152-ME4','Device 1---MOD-EL11-10-65-160-153-ME1','Device 1---MOD-EL12-10-65-160-153-ME4','Device 1---MOD-EL13-10-65-160-154-ME1','Device 1---MOD-EL14-10-65-160-154-ME4']]\n",
    "elec_fl['energy_fl']=elec_fl.sum(axis=1, numeric_only=float)"
   ]
  },
  {
   "cell_type": "code",
   "execution_count": null,
   "metadata": {
    "collapsed": false
   },
   "outputs": [],
   "source": [
    "# plotting daily electricity consumption recorded at the supply level \n",
    "daily_elec_fl = elec_fl.groupby(elec_fl.index.date).sum()\n",
    "plt.figure()\n",
    "plt.xlabel('Days', fontsize= 15)\n",
    "plt.ylabel('kWh', fontsize= 15)\n",
    "plt.title(\"Daily electricity consumption of floodlights\")\n",
    "daily_elec_fl[\"energy_fl\"].plot(kind='bar',figsize=(20,6))"
   ]
  },
  {
   "cell_type": "code",
   "execution_count": null,
   "metadata": {
    "collapsed": true
   },
   "outputs": [],
   "source": [
    "elec_co=df[['Device 1---MOD-EL15-10-65-160-162-ME1', 'Device 1---MOD-EL16-10-65-160-162-ME4','Device 1---MOD-EL18-10-65-160-160-ME4','Device 1---MOD-EL17-10-65-160-162-ME7']]"
   ]
  },
  {
   "cell_type": "code",
   "execution_count": null,
   "metadata": {
    "collapsed": false
   },
   "outputs": [],
   "source": [
    "elec_co.rename(columns={'Device 1---MOD-EL15-10-65-160-162-ME1': 'energy_ch1a', 'Device 1---MOD-EL16-10-65-160-162-ME4': 'energy_ch1b','Device 1---MOD-EL18-10-65-160-160-ME4':'energy_ch2','Device 1---MOD-EL17-10-65-160-162-ME7':'energy_ct'}, inplace=True)\n",
    "elec_co_power=df[['Device 1---MOD-EL15-10-65-160-162-ME3','Device 1---MOD-EL16-10-65-160-162-ME6','Device 1---MOD-EL18-10-65-160-160-ME6']]"
   ]
  },
  {
   "cell_type": "code",
   "execution_count": null,
   "metadata": {
    "collapsed": false
   },
   "outputs": [],
   "source": [
    "daily_elec_co=elec_co.groupby(elec_co.index.date).sum()\n",
    "plt.figure()\n",
    "daily_elec_co.plot(kind='bar',figsize=(20,6))\n",
    "plt.xlabel('Days', fontsize= 15)\n",
    "plt.ylabel('kWh', fontsize= 15)\n",
    "plt.title(\"Daily electricity consumption of cooling \")"
   ]
  },
  {
   "cell_type": "code",
   "execution_count": null,
   "metadata": {
    "collapsed": false
   },
   "outputs": [],
   "source": [
    "print elec_co.loc['2015-06-27 00:00:00':'2015-06-30 00:00:00', 'energy_ch2']\n",
    "\n"
   ]
  },
  {
   "cell_type": "markdown",
   "metadata": {},
   "source": [
    "Analyzing AHU"
   ]
  },
  {
   "cell_type": "code",
   "execution_count": null,
   "metadata": {
    "collapsed": false
   },
   "outputs": [],
   "source": [
    "elec_au=df[['Device 1---MOD-EL28-10-65-160-156-ME3','Device 1---MOD-EL29-10-65-160-156-ME6']]\n",
    "elec_au.rename(columns={'Device 1---MOD-EL28-10-65-160-156-ME3':'energy_ahu1','Device 1---MOD-EL29-10-65-160-156-ME6':'energy_ahu2'}, inplace=True)\n",
    "elec_au['energy_au']=elec_au.sum(axis=1)"
   ]
  },
  {
   "cell_type": "code",
   "execution_count": null,
   "metadata": {
    "collapsed": false
   },
   "outputs": [],
   "source": [
    "daily_elec_au=elec_au.groupby(elec_au.index.date).sum()\n",
    "plt.figure()\n",
    "daily_elec_au.plot(kind='bar',figsize=(20,6))\n",
    "plt.xlabel('Days', fontsize= 15)\n",
    "plt.ylabel('kWh', fontsize= 15)\n",
    "plt.title(\"Daily electricity consumption of AHU \")"
   ]
  },
  {
   "cell_type": "code",
   "execution_count": null,
   "metadata": {
    "collapsed": false
   },
   "outputs": [],
   "source": [
    "elec_au[\"energy_ahu1\"].plot(figsize=(20,6))"
   ]
  },
  {
   "cell_type": "code",
   "execution_count": null,
   "metadata": {
    "collapsed": false
   },
   "outputs": [],
   "source": [
    "daily_elec_tot = pd.concat([daily_elec_main[\"energy\"],daily_elec_sup['energy_sup'], daily_elec_co['energy_ch1a'],daily_elec_co['energy_ch1b'], daily_elec_co['energy_ch2'],daily_elec_co['energy_ct'], daily_elec_fl['energy_fl'],daily_elec_au['energy_au']], axis=1)"
   ]
  },
  {
   "cell_type": "code",
   "execution_count": null,
   "metadata": {
    "collapsed": false
   },
   "outputs": [],
   "source": [
    "daily_elec_tot.describe()\n"
   ]
  },
  {
   "cell_type": "code",
   "execution_count": null,
   "metadata": {
    "collapsed": true
   },
   "outputs": [],
   "source": [
    "stat_list= [daily_elec_tot.describe(),drop_out_perf]\n",
    "xls_path=\"./Data/quality_check/{}_stats.xls\".format(filename)\n",
    "from pandas import ExcelWriter\n",
    "writer = ExcelWriter(xls_path)\n",
    "for n, df in enumerate(stat_list):\n",
    "    df.to_excel(writer,'sheet%s' % n)\n",
    "writer.save()"
   ]
  }
 ],
 "metadata": {
  "kernelspec": {
   "display_name": "Python 2",
   "language": "python",
   "name": "python2"
  },
  "language_info": {
   "codemirror_mode": {
    "name": "ipython",
    "version": 2
   },
   "file_extension": ".py",
   "mimetype": "text/x-python",
   "name": "python",
   "nbconvert_exporter": "python",
   "pygments_lexer": "ipython2",
   "version": "2.7.11"
  }
 },
 "nbformat": 4,
 "nbformat_minor": 0
}
