{
 "cells": [
  {
   "cell_type": "code",
   "execution_count": 1,
   "metadata": {
    "collapsed": false,
    "scrolled": true
   },
   "outputs": [],
   "source": [
    "%matplotlib inline \n",
    "\n",
    "\n",
    "import numpy as np\n",
    "import pandas as pd\n",
    "import matplotlib\n",
    "import matplotlib.pyplot as plt \n",
    "# pd.options.display.mpl_style='default'\n",
    "import seaborn as sns\n",
    "from disaggregation import *\n",
    "from clustering_visual import *\n",
    "from time_context import *"
   ]
  },
  {
   "cell_type": "code",
   "execution_count": 2,
   "metadata": {
    "collapsed": false
   },
   "outputs": [],
   "source": [
    "filename='campus21.log.20141208-20141214.log.gz.csv.csv'\n",
    "# filename='campus21.log.20141110-20141116.log.gz.csv.csv'\n",
    "# filename=\"campus21.log.20141013-20141026.log.gz.csv.csv\"\n",
    "# filename='campus21.log.20150105-20150118.log.gz.csv.csv'  # the kitchen and the sports room meter do not show any consumption\n",
    "# filename ='campus21.log.20141215-20150104.log.gz.csv.csv' # kitchen and sports dont have a lot of consumption; alot of Nan VALUES IN THE DATASET  \n",
    "# filename = 'campus21.log.20141027-20141109.log.gz.csv.csv'\n",
    "# filename =  'campus21.log.20150427-20150602.log.gz.csv.csv'\n",
    "# filename =  'campus21.log.20151001-20151130.log.gz.csv.csv'\n",
    "# filename = 'campus21.log.20150119-20150201.log.gz.csv.csv'\n",
    "df= pd.read_csv('./Data/Heating_system_data/{}'.format(filename), header=0,sep=\",\")\n",
    "start=\"2014-11-11 00:00:00\"\n",
    "end= \"2014-11-13 23:59:59\""
   ]
  },
  {
   "cell_type": "code",
   "execution_count": 3,
   "metadata": {
    "collapsed": true
   },
   "outputs": [],
   "source": [
    "# enter the sampling time \n",
    "ts='60T'"
   ]
  },
  {
   "cell_type": "code",
   "execution_count": 4,
   "metadata": {
    "collapsed": false
   },
   "outputs": [
    {
     "data": {
      "text/html": [
       "<div>\n",
       "<table border=\"1\" class=\"dataframe\">\n",
       "  <thead>\n",
       "    <tr style=\"text-align: right;\">\n",
       "      <th></th>\n",
       "      <th>Device 1---#-.--.UV-AV-AM EG  01RM01-Z</th>\n",
       "      <th>Device 1---#-.--.UV-AV-AM EG  01RM02-Z</th>\n",
       "      <th>Device 1---#-.--.UV-AV-AM EG  01RM03-Z</th>\n",
       "      <th>Device 1---#-.--.UV-AV-AM EG  01RM04-Z</th>\n",
       "      <th>Device 1---#-.--.UV-AV-AM EG  01RM05-Z</th>\n",
       "      <th>Device 1---#-.--.UV-AV-AM EG  01RM06-Z</th>\n",
       "      <th>Device 1---#-.--.UV-AV-AM EG  01RM07-Z</th>\n",
       "      <th>Device 1---#-.--.UV-AV-AM EG  01RM08-Z</th>\n",
       "      <th>Device 1---#-.--.UV-AV-AM EG  01RM09-Z</th>\n",
       "      <th>Device 1---#-.--.UV-AV-AM EG  01RM10-Z</th>\n",
       "      <th>...</th>\n",
       "      <th>Device 1---PC00_K22_DDC03200-USV</th>\n",
       "      <th>Device 1---PC00_K22_DDC03300-USV</th>\n",
       "      <th>Device 1---PC00_K22_DDC03500-USV</th>\n",
       "      <th>Device 1---PC00_K22_DDC03800-USV</th>\n",
       "      <th>Device 1---PC00_K22_DDC03801-USV</th>\n",
       "      <th>Device 1---PC01_K31_DDC00999-USV</th>\n",
       "      <th>Device 1---PZT Alarme unterdr�</th>\n",
       "      <th>Device 1---Wartung</th>\n",
       "      <th>Device 1---Zentral Ein Bauteil 1-3</th>\n",
       "      <th>Timestamp</th>\n",
       "    </tr>\n",
       "  </thead>\n",
       "  <tbody>\n",
       "    <tr>\n",
       "      <th>0</th>\n",
       "      <td>0</td>\n",
       "      <td>0</td>\n",
       "      <td>0</td>\n",
       "      <td>0</td>\n",
       "      <td>0</td>\n",
       "      <td>0</td>\n",
       "      <td>0</td>\n",
       "      <td>0</td>\n",
       "      <td>0</td>\n",
       "      <td>0</td>\n",
       "      <td>...</td>\n",
       "      <td>2</td>\n",
       "      <td>2</td>\n",
       "      <td>2</td>\n",
       "      <td>2</td>\n",
       "      <td>2</td>\n",
       "      <td>1</td>\n",
       "      <td>Sensor not set in Campus21 Data Event</td>\n",
       "      <td>Sensor not set in Campus21 Data Event</td>\n",
       "      <td>0</td>\n",
       "      <td>2014-12-08 00:03:26.739</td>\n",
       "    </tr>\n",
       "    <tr>\n",
       "      <th>1</th>\n",
       "      <td>0</td>\n",
       "      <td>0</td>\n",
       "      <td>0</td>\n",
       "      <td>0</td>\n",
       "      <td>0</td>\n",
       "      <td>0</td>\n",
       "      <td>0</td>\n",
       "      <td>0</td>\n",
       "      <td>0</td>\n",
       "      <td>0</td>\n",
       "      <td>...</td>\n",
       "      <td>2</td>\n",
       "      <td>2</td>\n",
       "      <td>2</td>\n",
       "      <td>2</td>\n",
       "      <td>2</td>\n",
       "      <td>1</td>\n",
       "      <td>Sensor not set in Campus21 Data Event</td>\n",
       "      <td>Sensor not set in Campus21 Data Event</td>\n",
       "      <td>0</td>\n",
       "      <td>2014-12-08 00:13:26.751</td>\n",
       "    </tr>\n",
       "    <tr>\n",
       "      <th>2</th>\n",
       "      <td>0</td>\n",
       "      <td>0</td>\n",
       "      <td>0</td>\n",
       "      <td>0</td>\n",
       "      <td>0</td>\n",
       "      <td>0</td>\n",
       "      <td>0</td>\n",
       "      <td>0</td>\n",
       "      <td>0</td>\n",
       "      <td>0</td>\n",
       "      <td>...</td>\n",
       "      <td>2</td>\n",
       "      <td>2</td>\n",
       "      <td>2</td>\n",
       "      <td>2</td>\n",
       "      <td>2</td>\n",
       "      <td>1</td>\n",
       "      <td>Sensor not set in Campus21 Data Event</td>\n",
       "      <td>Sensor not set in Campus21 Data Event</td>\n",
       "      <td>0</td>\n",
       "      <td>2014-12-08 00:23:26.765</td>\n",
       "    </tr>\n",
       "    <tr>\n",
       "      <th>3</th>\n",
       "      <td>0</td>\n",
       "      <td>0</td>\n",
       "      <td>0</td>\n",
       "      <td>0</td>\n",
       "      <td>0</td>\n",
       "      <td>0</td>\n",
       "      <td>0</td>\n",
       "      <td>0</td>\n",
       "      <td>0</td>\n",
       "      <td>0</td>\n",
       "      <td>...</td>\n",
       "      <td>2</td>\n",
       "      <td>2</td>\n",
       "      <td>2</td>\n",
       "      <td>2</td>\n",
       "      <td>2</td>\n",
       "      <td>1</td>\n",
       "      <td>Sensor not set in Campus21 Data Event</td>\n",
       "      <td>Sensor not set in Campus21 Data Event</td>\n",
       "      <td>0</td>\n",
       "      <td>2014-12-08 00:33:26.77</td>\n",
       "    </tr>\n",
       "    <tr>\n",
       "      <th>4</th>\n",
       "      <td>0</td>\n",
       "      <td>0</td>\n",
       "      <td>0</td>\n",
       "      <td>0</td>\n",
       "      <td>0</td>\n",
       "      <td>0</td>\n",
       "      <td>0</td>\n",
       "      <td>0</td>\n",
       "      <td>0</td>\n",
       "      <td>0</td>\n",
       "      <td>...</td>\n",
       "      <td>2</td>\n",
       "      <td>2</td>\n",
       "      <td>2</td>\n",
       "      <td>2</td>\n",
       "      <td>2</td>\n",
       "      <td>1</td>\n",
       "      <td>Sensor not set in Campus21 Data Event</td>\n",
       "      <td>Sensor not set in Campus21 Data Event</td>\n",
       "      <td>0</td>\n",
       "      <td>2014-12-08 00:43:26.835</td>\n",
       "    </tr>\n",
       "  </tbody>\n",
       "</table>\n",
       "<p>5 rows × 13457 columns</p>\n",
       "</div>"
      ],
      "text/plain": [
       "   Device 1---#-.--.UV-AV-AM EG  01RM01-Z  \\\n",
       "0                                       0   \n",
       "1                                       0   \n",
       "2                                       0   \n",
       "3                                       0   \n",
       "4                                       0   \n",
       "\n",
       "   Device 1---#-.--.UV-AV-AM EG  01RM02-Z  \\\n",
       "0                                       0   \n",
       "1                                       0   \n",
       "2                                       0   \n",
       "3                                       0   \n",
       "4                                       0   \n",
       "\n",
       "   Device 1---#-.--.UV-AV-AM EG  01RM03-Z  \\\n",
       "0                                       0   \n",
       "1                                       0   \n",
       "2                                       0   \n",
       "3                                       0   \n",
       "4                                       0   \n",
       "\n",
       "   Device 1---#-.--.UV-AV-AM EG  01RM04-Z  \\\n",
       "0                                       0   \n",
       "1                                       0   \n",
       "2                                       0   \n",
       "3                                       0   \n",
       "4                                       0   \n",
       "\n",
       "   Device 1---#-.--.UV-AV-AM EG  01RM05-Z  \\\n",
       "0                                       0   \n",
       "1                                       0   \n",
       "2                                       0   \n",
       "3                                       0   \n",
       "4                                       0   \n",
       "\n",
       "   Device 1---#-.--.UV-AV-AM EG  01RM06-Z  \\\n",
       "0                                       0   \n",
       "1                                       0   \n",
       "2                                       0   \n",
       "3                                       0   \n",
       "4                                       0   \n",
       "\n",
       "   Device 1---#-.--.UV-AV-AM EG  01RM07-Z  \\\n",
       "0                                       0   \n",
       "1                                       0   \n",
       "2                                       0   \n",
       "3                                       0   \n",
       "4                                       0   \n",
       "\n",
       "   Device 1---#-.--.UV-AV-AM EG  01RM08-Z  \\\n",
       "0                                       0   \n",
       "1                                       0   \n",
       "2                                       0   \n",
       "3                                       0   \n",
       "4                                       0   \n",
       "\n",
       "   Device 1---#-.--.UV-AV-AM EG  01RM09-Z  \\\n",
       "0                                       0   \n",
       "1                                       0   \n",
       "2                                       0   \n",
       "3                                       0   \n",
       "4                                       0   \n",
       "\n",
       "   Device 1---#-.--.UV-AV-AM EG  01RM10-Z           ...             \\\n",
       "0                                       0           ...              \n",
       "1                                       0           ...              \n",
       "2                                       0           ...              \n",
       "3                                       0           ...              \n",
       "4                                       0           ...              \n",
       "\n",
       "   Device 1---PC00_K22_DDC03200-USV  Device 1---PC00_K22_DDC03300-USV  \\\n",
       "0                                 2                                 2   \n",
       "1                                 2                                 2   \n",
       "2                                 2                                 2   \n",
       "3                                 2                                 2   \n",
       "4                                 2                                 2   \n",
       "\n",
       "   Device 1---PC00_K22_DDC03500-USV  Device 1---PC00_K22_DDC03800-USV  \\\n",
       "0                                 2                                 2   \n",
       "1                                 2                                 2   \n",
       "2                                 2                                 2   \n",
       "3                                 2                                 2   \n",
       "4                                 2                                 2   \n",
       "\n",
       "   Device 1---PC00_K22_DDC03801-USV  Device 1---PC01_K31_DDC00999-USV  \\\n",
       "0                                 2                                 1   \n",
       "1                                 2                                 1   \n",
       "2                                 2                                 1   \n",
       "3                                 2                                 1   \n",
       "4                                 2                                 1   \n",
       "\n",
       "          Device 1---PZT Alarme unterdr�  \\\n",
       "0  Sensor not set in Campus21 Data Event   \n",
       "1  Sensor not set in Campus21 Data Event   \n",
       "2  Sensor not set in Campus21 Data Event   \n",
       "3  Sensor not set in Campus21 Data Event   \n",
       "4  Sensor not set in Campus21 Data Event   \n",
       "\n",
       "                      Device 1---Wartung  Device 1---Zentral Ein Bauteil 1-3  \\\n",
       "0  Sensor not set in Campus21 Data Event                                   0   \n",
       "1  Sensor not set in Campus21 Data Event                                   0   \n",
       "2  Sensor not set in Campus21 Data Event                                   0   \n",
       "3  Sensor not set in Campus21 Data Event                                   0   \n",
       "4  Sensor not set in Campus21 Data Event                                   0   \n",
       "\n",
       "                 Timestamp  \n",
       "0  2014-12-08 00:03:26.739  \n",
       "1  2014-12-08 00:13:26.751  \n",
       "2  2014-12-08 00:23:26.765  \n",
       "3   2014-12-08 00:33:26.77  \n",
       "4  2014-12-08 00:43:26.835  \n",
       "\n",
       "[5 rows x 13457 columns]"
      ]
     },
     "execution_count": 4,
     "metadata": {},
     "output_type": "execute_result"
    }
   ],
   "source": [
    "df.head()"
   ]
  },
  {
   "cell_type": "code",
   "execution_count": 5,
   "metadata": {
    "collapsed": false
   },
   "outputs": [],
   "source": [
    "# setting the index to timestamp\n",
    "df['Timestamp']=pd.to_datetime(df['Timestamp'],)\n",
    "df=df.set_index(['Timestamp'])"
   ]
  },
  {
   "cell_type": "code",
   "execution_count": 6,
   "metadata": {
    "collapsed": false
   },
   "outputs": [
    {
     "data": {
      "text/html": [
       "<div>\n",
       "<table border=\"1\" class=\"dataframe\">\n",
       "  <thead>\n",
       "    <tr style=\"text-align: right;\">\n",
       "      <th></th>\n",
       "      <th>Device 1---#-.--.UV-AV-AM EG  01RM01-Z</th>\n",
       "      <th>Device 1---#-.--.UV-AV-AM EG  01RM02-Z</th>\n",
       "      <th>Device 1---#-.--.UV-AV-AM EG  01RM03-Z</th>\n",
       "      <th>Device 1---#-.--.UV-AV-AM EG  01RM04-Z</th>\n",
       "      <th>Device 1---#-.--.UV-AV-AM EG  01RM05-Z</th>\n",
       "      <th>Device 1---#-.--.UV-AV-AM EG  01RM06-Z</th>\n",
       "      <th>Device 1---#-.--.UV-AV-AM EG  01RM07-Z</th>\n",
       "      <th>Device 1---#-.--.UV-AV-AM EG  01RM08-Z</th>\n",
       "      <th>Device 1---#-.--.UV-AV-AM EG  01RM09-Z</th>\n",
       "      <th>Device 1---#-.--.UV-AV-AM EG  01RM10-Z</th>\n",
       "      <th>...</th>\n",
       "      <th>Device 1---PC00_K22_DDC03100-USV</th>\n",
       "      <th>Device 1---PC00_K22_DDC03200-USV</th>\n",
       "      <th>Device 1---PC00_K22_DDC03300-USV</th>\n",
       "      <th>Device 1---PC00_K22_DDC03500-USV</th>\n",
       "      <th>Device 1---PC00_K22_DDC03800-USV</th>\n",
       "      <th>Device 1---PC00_K22_DDC03801-USV</th>\n",
       "      <th>Device 1---PC01_K31_DDC00999-USV</th>\n",
       "      <th>Device 1---PZT Alarme unterdr�</th>\n",
       "      <th>Device 1---Wartung</th>\n",
       "      <th>Device 1---Zentral Ein Bauteil 1-3</th>\n",
       "    </tr>\n",
       "    <tr>\n",
       "      <th>Timestamp</th>\n",
       "      <th></th>\n",
       "      <th></th>\n",
       "      <th></th>\n",
       "      <th></th>\n",
       "      <th></th>\n",
       "      <th></th>\n",
       "      <th></th>\n",
       "      <th></th>\n",
       "      <th></th>\n",
       "      <th></th>\n",
       "      <th></th>\n",
       "      <th></th>\n",
       "      <th></th>\n",
       "      <th></th>\n",
       "      <th></th>\n",
       "      <th></th>\n",
       "      <th></th>\n",
       "      <th></th>\n",
       "      <th></th>\n",
       "      <th></th>\n",
       "      <th></th>\n",
       "    </tr>\n",
       "  </thead>\n",
       "  <tbody>\n",
       "    <tr>\n",
       "      <th>2014-12-08 00:03:26.739</th>\n",
       "      <td>0</td>\n",
       "      <td>0</td>\n",
       "      <td>0</td>\n",
       "      <td>0</td>\n",
       "      <td>0</td>\n",
       "      <td>0</td>\n",
       "      <td>0</td>\n",
       "      <td>0</td>\n",
       "      <td>0</td>\n",
       "      <td>0</td>\n",
       "      <td>...</td>\n",
       "      <td>2</td>\n",
       "      <td>2</td>\n",
       "      <td>2</td>\n",
       "      <td>2</td>\n",
       "      <td>2</td>\n",
       "      <td>2</td>\n",
       "      <td>1</td>\n",
       "      <td>Sensor not set in Campus21 Data Event</td>\n",
       "      <td>Sensor not set in Campus21 Data Event</td>\n",
       "      <td>0</td>\n",
       "    </tr>\n",
       "    <tr>\n",
       "      <th>2014-12-08 00:13:26.751</th>\n",
       "      <td>0</td>\n",
       "      <td>0</td>\n",
       "      <td>0</td>\n",
       "      <td>0</td>\n",
       "      <td>0</td>\n",
       "      <td>0</td>\n",
       "      <td>0</td>\n",
       "      <td>0</td>\n",
       "      <td>0</td>\n",
       "      <td>0</td>\n",
       "      <td>...</td>\n",
       "      <td>2</td>\n",
       "      <td>2</td>\n",
       "      <td>2</td>\n",
       "      <td>2</td>\n",
       "      <td>2</td>\n",
       "      <td>2</td>\n",
       "      <td>1</td>\n",
       "      <td>Sensor not set in Campus21 Data Event</td>\n",
       "      <td>Sensor not set in Campus21 Data Event</td>\n",
       "      <td>0</td>\n",
       "    </tr>\n",
       "    <tr>\n",
       "      <th>2014-12-08 00:23:26.765</th>\n",
       "      <td>0</td>\n",
       "      <td>0</td>\n",
       "      <td>0</td>\n",
       "      <td>0</td>\n",
       "      <td>0</td>\n",
       "      <td>0</td>\n",
       "      <td>0</td>\n",
       "      <td>0</td>\n",
       "      <td>0</td>\n",
       "      <td>0</td>\n",
       "      <td>...</td>\n",
       "      <td>2</td>\n",
       "      <td>2</td>\n",
       "      <td>2</td>\n",
       "      <td>2</td>\n",
       "      <td>2</td>\n",
       "      <td>2</td>\n",
       "      <td>1</td>\n",
       "      <td>Sensor not set in Campus21 Data Event</td>\n",
       "      <td>Sensor not set in Campus21 Data Event</td>\n",
       "      <td>0</td>\n",
       "    </tr>\n",
       "    <tr>\n",
       "      <th>2014-12-08 00:33:26.770</th>\n",
       "      <td>0</td>\n",
       "      <td>0</td>\n",
       "      <td>0</td>\n",
       "      <td>0</td>\n",
       "      <td>0</td>\n",
       "      <td>0</td>\n",
       "      <td>0</td>\n",
       "      <td>0</td>\n",
       "      <td>0</td>\n",
       "      <td>0</td>\n",
       "      <td>...</td>\n",
       "      <td>2</td>\n",
       "      <td>2</td>\n",
       "      <td>2</td>\n",
       "      <td>2</td>\n",
       "      <td>2</td>\n",
       "      <td>2</td>\n",
       "      <td>1</td>\n",
       "      <td>Sensor not set in Campus21 Data Event</td>\n",
       "      <td>Sensor not set in Campus21 Data Event</td>\n",
       "      <td>0</td>\n",
       "    </tr>\n",
       "    <tr>\n",
       "      <th>2014-12-08 00:43:26.835</th>\n",
       "      <td>0</td>\n",
       "      <td>0</td>\n",
       "      <td>0</td>\n",
       "      <td>0</td>\n",
       "      <td>0</td>\n",
       "      <td>0</td>\n",
       "      <td>0</td>\n",
       "      <td>0</td>\n",
       "      <td>0</td>\n",
       "      <td>0</td>\n",
       "      <td>...</td>\n",
       "      <td>2</td>\n",
       "      <td>2</td>\n",
       "      <td>2</td>\n",
       "      <td>2</td>\n",
       "      <td>2</td>\n",
       "      <td>2</td>\n",
       "      <td>1</td>\n",
       "      <td>Sensor not set in Campus21 Data Event</td>\n",
       "      <td>Sensor not set in Campus21 Data Event</td>\n",
       "      <td>0</td>\n",
       "    </tr>\n",
       "  </tbody>\n",
       "</table>\n",
       "<p>5 rows × 13456 columns</p>\n",
       "</div>"
      ],
      "text/plain": [
       "                         Device 1---#-.--.UV-AV-AM EG  01RM01-Z  \\\n",
       "Timestamp                                                         \n",
       "2014-12-08 00:03:26.739                                       0   \n",
       "2014-12-08 00:13:26.751                                       0   \n",
       "2014-12-08 00:23:26.765                                       0   \n",
       "2014-12-08 00:33:26.770                                       0   \n",
       "2014-12-08 00:43:26.835                                       0   \n",
       "\n",
       "                         Device 1---#-.--.UV-AV-AM EG  01RM02-Z  \\\n",
       "Timestamp                                                         \n",
       "2014-12-08 00:03:26.739                                       0   \n",
       "2014-12-08 00:13:26.751                                       0   \n",
       "2014-12-08 00:23:26.765                                       0   \n",
       "2014-12-08 00:33:26.770                                       0   \n",
       "2014-12-08 00:43:26.835                                       0   \n",
       "\n",
       "                         Device 1---#-.--.UV-AV-AM EG  01RM03-Z  \\\n",
       "Timestamp                                                         \n",
       "2014-12-08 00:03:26.739                                       0   \n",
       "2014-12-08 00:13:26.751                                       0   \n",
       "2014-12-08 00:23:26.765                                       0   \n",
       "2014-12-08 00:33:26.770                                       0   \n",
       "2014-12-08 00:43:26.835                                       0   \n",
       "\n",
       "                         Device 1---#-.--.UV-AV-AM EG  01RM04-Z  \\\n",
       "Timestamp                                                         \n",
       "2014-12-08 00:03:26.739                                       0   \n",
       "2014-12-08 00:13:26.751                                       0   \n",
       "2014-12-08 00:23:26.765                                       0   \n",
       "2014-12-08 00:33:26.770                                       0   \n",
       "2014-12-08 00:43:26.835                                       0   \n",
       "\n",
       "                         Device 1---#-.--.UV-AV-AM EG  01RM05-Z  \\\n",
       "Timestamp                                                         \n",
       "2014-12-08 00:03:26.739                                       0   \n",
       "2014-12-08 00:13:26.751                                       0   \n",
       "2014-12-08 00:23:26.765                                       0   \n",
       "2014-12-08 00:33:26.770                                       0   \n",
       "2014-12-08 00:43:26.835                                       0   \n",
       "\n",
       "                         Device 1---#-.--.UV-AV-AM EG  01RM06-Z  \\\n",
       "Timestamp                                                         \n",
       "2014-12-08 00:03:26.739                                       0   \n",
       "2014-12-08 00:13:26.751                                       0   \n",
       "2014-12-08 00:23:26.765                                       0   \n",
       "2014-12-08 00:33:26.770                                       0   \n",
       "2014-12-08 00:43:26.835                                       0   \n",
       "\n",
       "                         Device 1---#-.--.UV-AV-AM EG  01RM07-Z  \\\n",
       "Timestamp                                                         \n",
       "2014-12-08 00:03:26.739                                       0   \n",
       "2014-12-08 00:13:26.751                                       0   \n",
       "2014-12-08 00:23:26.765                                       0   \n",
       "2014-12-08 00:33:26.770                                       0   \n",
       "2014-12-08 00:43:26.835                                       0   \n",
       "\n",
       "                         Device 1---#-.--.UV-AV-AM EG  01RM08-Z  \\\n",
       "Timestamp                                                         \n",
       "2014-12-08 00:03:26.739                                       0   \n",
       "2014-12-08 00:13:26.751                                       0   \n",
       "2014-12-08 00:23:26.765                                       0   \n",
       "2014-12-08 00:33:26.770                                       0   \n",
       "2014-12-08 00:43:26.835                                       0   \n",
       "\n",
       "                         Device 1---#-.--.UV-AV-AM EG  01RM09-Z  \\\n",
       "Timestamp                                                         \n",
       "2014-12-08 00:03:26.739                                       0   \n",
       "2014-12-08 00:13:26.751                                       0   \n",
       "2014-12-08 00:23:26.765                                       0   \n",
       "2014-12-08 00:33:26.770                                       0   \n",
       "2014-12-08 00:43:26.835                                       0   \n",
       "\n",
       "                         Device 1---#-.--.UV-AV-AM EG  01RM10-Z  \\\n",
       "Timestamp                                                         \n",
       "2014-12-08 00:03:26.739                                       0   \n",
       "2014-12-08 00:13:26.751                                       0   \n",
       "2014-12-08 00:23:26.765                                       0   \n",
       "2014-12-08 00:33:26.770                                       0   \n",
       "2014-12-08 00:43:26.835                                       0   \n",
       "\n",
       "                                        ...                  \\\n",
       "Timestamp                               ...                   \n",
       "2014-12-08 00:03:26.739                 ...                   \n",
       "2014-12-08 00:13:26.751                 ...                   \n",
       "2014-12-08 00:23:26.765                 ...                   \n",
       "2014-12-08 00:33:26.770                 ...                   \n",
       "2014-12-08 00:43:26.835                 ...                   \n",
       "\n",
       "                         Device 1---PC00_K22_DDC03100-USV  \\\n",
       "Timestamp                                                   \n",
       "2014-12-08 00:03:26.739                                 2   \n",
       "2014-12-08 00:13:26.751                                 2   \n",
       "2014-12-08 00:23:26.765                                 2   \n",
       "2014-12-08 00:33:26.770                                 2   \n",
       "2014-12-08 00:43:26.835                                 2   \n",
       "\n",
       "                         Device 1---PC00_K22_DDC03200-USV  \\\n",
       "Timestamp                                                   \n",
       "2014-12-08 00:03:26.739                                 2   \n",
       "2014-12-08 00:13:26.751                                 2   \n",
       "2014-12-08 00:23:26.765                                 2   \n",
       "2014-12-08 00:33:26.770                                 2   \n",
       "2014-12-08 00:43:26.835                                 2   \n",
       "\n",
       "                         Device 1---PC00_K22_DDC03300-USV  \\\n",
       "Timestamp                                                   \n",
       "2014-12-08 00:03:26.739                                 2   \n",
       "2014-12-08 00:13:26.751                                 2   \n",
       "2014-12-08 00:23:26.765                                 2   \n",
       "2014-12-08 00:33:26.770                                 2   \n",
       "2014-12-08 00:43:26.835                                 2   \n",
       "\n",
       "                         Device 1---PC00_K22_DDC03500-USV  \\\n",
       "Timestamp                                                   \n",
       "2014-12-08 00:03:26.739                                 2   \n",
       "2014-12-08 00:13:26.751                                 2   \n",
       "2014-12-08 00:23:26.765                                 2   \n",
       "2014-12-08 00:33:26.770                                 2   \n",
       "2014-12-08 00:43:26.835                                 2   \n",
       "\n",
       "                         Device 1---PC00_K22_DDC03800-USV  \\\n",
       "Timestamp                                                   \n",
       "2014-12-08 00:03:26.739                                 2   \n",
       "2014-12-08 00:13:26.751                                 2   \n",
       "2014-12-08 00:23:26.765                                 2   \n",
       "2014-12-08 00:33:26.770                                 2   \n",
       "2014-12-08 00:43:26.835                                 2   \n",
       "\n",
       "                         Device 1---PC00_K22_DDC03801-USV  \\\n",
       "Timestamp                                                   \n",
       "2014-12-08 00:03:26.739                                 2   \n",
       "2014-12-08 00:13:26.751                                 2   \n",
       "2014-12-08 00:23:26.765                                 2   \n",
       "2014-12-08 00:33:26.770                                 2   \n",
       "2014-12-08 00:43:26.835                                 2   \n",
       "\n",
       "                         Device 1---PC01_K31_DDC00999-USV  \\\n",
       "Timestamp                                                   \n",
       "2014-12-08 00:03:26.739                                 1   \n",
       "2014-12-08 00:13:26.751                                 1   \n",
       "2014-12-08 00:23:26.765                                 1   \n",
       "2014-12-08 00:33:26.770                                 1   \n",
       "2014-12-08 00:43:26.835                                 1   \n",
       "\n",
       "                                Device 1---PZT Alarme unterdr�  \\\n",
       "Timestamp                                                        \n",
       "2014-12-08 00:03:26.739  Sensor not set in Campus21 Data Event   \n",
       "2014-12-08 00:13:26.751  Sensor not set in Campus21 Data Event   \n",
       "2014-12-08 00:23:26.765  Sensor not set in Campus21 Data Event   \n",
       "2014-12-08 00:33:26.770  Sensor not set in Campus21 Data Event   \n",
       "2014-12-08 00:43:26.835  Sensor not set in Campus21 Data Event   \n",
       "\n",
       "                                            Device 1---Wartung  \\\n",
       "Timestamp                                                        \n",
       "2014-12-08 00:03:26.739  Sensor not set in Campus21 Data Event   \n",
       "2014-12-08 00:13:26.751  Sensor not set in Campus21 Data Event   \n",
       "2014-12-08 00:23:26.765  Sensor not set in Campus21 Data Event   \n",
       "2014-12-08 00:33:26.770  Sensor not set in Campus21 Data Event   \n",
       "2014-12-08 00:43:26.835  Sensor not set in Campus21 Data Event   \n",
       "\n",
       "                         Device 1---Zentral Ein Bauteil 1-3  \n",
       "Timestamp                                                    \n",
       "2014-12-08 00:03:26.739                                   0  \n",
       "2014-12-08 00:13:26.751                                   0  \n",
       "2014-12-08 00:23:26.765                                   0  \n",
       "2014-12-08 00:33:26.770                                   0  \n",
       "2014-12-08 00:43:26.835                                   0  \n",
       "\n",
       "[5 rows x 13456 columns]"
      ]
     },
     "execution_count": 6,
     "metadata": {},
     "output_type": "execute_result"
    }
   ],
   "source": [
    "df.head()"
   ]
  },
  {
   "cell_type": "code",
   "execution_count": 7,
   "metadata": {
    "collapsed": true
   },
   "outputs": [],
   "source": [
    "#extracting heat related meters\n",
    "heat_meters=[col for col in df.columns if \"MOD-WMZ0\" in col]\n",
    "heat_meters.remove('Device 1---MOD-WMZ06-10-65-160-156-ME2')"
   ]
  },
  {
   "cell_type": "code",
   "execution_count": 8,
   "metadata": {
    "collapsed": false
   },
   "outputs": [
    {
     "name": "stderr",
     "output_type": "stream",
     "text": [
      "C:\\Users\\nle5975\\AppData\\Local\\Continuum\\Anaconda2\\lib\\site-packages\\pandas\\core\\indexing.py:508: SettingWithCopyWarning: \n",
      "A value is trying to be set on a copy of a slice from a DataFrame.\n",
      "Try using .loc[row_indexer,col_indexer] = value instead\n",
      "\n",
      "See the caveats in the documentation: http://pandas.pydata.org/pandas-docs/stable/indexing.html#indexing-view-versus-copy\n",
      "  self.obj[item_labels[indexer[info_axis]]] = value\n",
      "C:\\Users\\nle5975\\AppData\\Local\\Continuum\\Anaconda2\\lib\\site-packages\\ipykernel\\__main__.py:7: FutureWarning: convert_objects is deprecated.  Use the data-type specific converters pd.to_datetime, pd.to_timedelta and pd.to_numeric.\n"
     ]
    },
    {
     "data": {
      "text/html": [
       "<div>\n",
       "<table border=\"1\" class=\"dataframe\">\n",
       "  <thead>\n",
       "    <tr style=\"text-align: right;\">\n",
       "      <th></th>\n",
       "      <th>Device 1---MOD-WMZ01-10-65-160-157-ME1</th>\n",
       "      <th>Device 1---MOD-WMZ02-10-65-160-159-ME1</th>\n",
       "      <th>Device 1---MOD-WMZ03-10-65-160-159-ME1</th>\n",
       "      <th>Device 1---MOD-WMZ04-10-65-160-159-ME1</th>\n",
       "      <th>Device 1---MOD-WMZ05-10-65-160-159-ME1</th>\n",
       "      <th>Device 1---MOD-WMZ07-10-65-160-164-ME1</th>\n",
       "      <th>Device 1---MOD-WMZ08-10-65-160-165-ME1</th>\n",
       "      <th>Device 1---ISP19H004 -ZM UG1 01ZM01</th>\n",
       "    </tr>\n",
       "    <tr>\n",
       "      <th>Timestamp</th>\n",
       "      <th></th>\n",
       "      <th></th>\n",
       "      <th></th>\n",
       "      <th></th>\n",
       "      <th></th>\n",
       "      <th></th>\n",
       "      <th></th>\n",
       "      <th></th>\n",
       "    </tr>\n",
       "  </thead>\n",
       "  <tbody>\n",
       "    <tr>\n",
       "      <th>2014-12-08 00:03:26.739</th>\n",
       "      <td>4887.9</td>\n",
       "      <td>1.8</td>\n",
       "      <td>3.75</td>\n",
       "      <td>89.49</td>\n",
       "      <td>209.09</td>\n",
       "      <td>1120.58</td>\n",
       "      <td>1120.58</td>\n",
       "      <td>5515.9653</td>\n",
       "    </tr>\n",
       "    <tr>\n",
       "      <th>2014-12-08 00:13:26.751</th>\n",
       "      <td>4888.1</td>\n",
       "      <td>1.8</td>\n",
       "      <td>3.75</td>\n",
       "      <td>89.49</td>\n",
       "      <td>209.11</td>\n",
       "      <td>1120.61</td>\n",
       "      <td>1120.61</td>\n",
       "      <td>5516.1650</td>\n",
       "    </tr>\n",
       "    <tr>\n",
       "      <th>2014-12-08 00:23:26.765</th>\n",
       "      <td>4888.3</td>\n",
       "      <td>1.8</td>\n",
       "      <td>3.75</td>\n",
       "      <td>89.49</td>\n",
       "      <td>209.12</td>\n",
       "      <td>1120.64</td>\n",
       "      <td>1120.64</td>\n",
       "      <td>5516.1650</td>\n",
       "    </tr>\n",
       "    <tr>\n",
       "      <th>2014-12-08 00:33:26.770</th>\n",
       "      <td>4888.5</td>\n",
       "      <td>1.8</td>\n",
       "      <td>3.75</td>\n",
       "      <td>89.49</td>\n",
       "      <td>209.14</td>\n",
       "      <td>1120.67</td>\n",
       "      <td>1120.67</td>\n",
       "      <td>5516.3650</td>\n",
       "    </tr>\n",
       "    <tr>\n",
       "      <th>2014-12-08 00:43:26.835</th>\n",
       "      <td>4888.7</td>\n",
       "      <td>1.8</td>\n",
       "      <td>3.75</td>\n",
       "      <td>89.49</td>\n",
       "      <td>209.15</td>\n",
       "      <td>1120.69</td>\n",
       "      <td>1120.69</td>\n",
       "      <td>5516.3650</td>\n",
       "    </tr>\n",
       "  </tbody>\n",
       "</table>\n",
       "</div>"
      ],
      "text/plain": [
       "                         Device 1---MOD-WMZ01-10-65-160-157-ME1  \\\n",
       "Timestamp                                                         \n",
       "2014-12-08 00:03:26.739                                  4887.9   \n",
       "2014-12-08 00:13:26.751                                  4888.1   \n",
       "2014-12-08 00:23:26.765                                  4888.3   \n",
       "2014-12-08 00:33:26.770                                  4888.5   \n",
       "2014-12-08 00:43:26.835                                  4888.7   \n",
       "\n",
       "                         Device 1---MOD-WMZ02-10-65-160-159-ME1  \\\n",
       "Timestamp                                                         \n",
       "2014-12-08 00:03:26.739                                     1.8   \n",
       "2014-12-08 00:13:26.751                                     1.8   \n",
       "2014-12-08 00:23:26.765                                     1.8   \n",
       "2014-12-08 00:33:26.770                                     1.8   \n",
       "2014-12-08 00:43:26.835                                     1.8   \n",
       "\n",
       "                         Device 1---MOD-WMZ03-10-65-160-159-ME1  \\\n",
       "Timestamp                                                         \n",
       "2014-12-08 00:03:26.739                                    3.75   \n",
       "2014-12-08 00:13:26.751                                    3.75   \n",
       "2014-12-08 00:23:26.765                                    3.75   \n",
       "2014-12-08 00:33:26.770                                    3.75   \n",
       "2014-12-08 00:43:26.835                                    3.75   \n",
       "\n",
       "                         Device 1---MOD-WMZ04-10-65-160-159-ME1  \\\n",
       "Timestamp                                                         \n",
       "2014-12-08 00:03:26.739                                   89.49   \n",
       "2014-12-08 00:13:26.751                                   89.49   \n",
       "2014-12-08 00:23:26.765                                   89.49   \n",
       "2014-12-08 00:33:26.770                                   89.49   \n",
       "2014-12-08 00:43:26.835                                   89.49   \n",
       "\n",
       "                         Device 1---MOD-WMZ05-10-65-160-159-ME1  \\\n",
       "Timestamp                                                         \n",
       "2014-12-08 00:03:26.739                                  209.09   \n",
       "2014-12-08 00:13:26.751                                  209.11   \n",
       "2014-12-08 00:23:26.765                                  209.12   \n",
       "2014-12-08 00:33:26.770                                  209.14   \n",
       "2014-12-08 00:43:26.835                                  209.15   \n",
       "\n",
       "                         Device 1---MOD-WMZ07-10-65-160-164-ME1  \\\n",
       "Timestamp                                                         \n",
       "2014-12-08 00:03:26.739                                 1120.58   \n",
       "2014-12-08 00:13:26.751                                 1120.61   \n",
       "2014-12-08 00:23:26.765                                 1120.64   \n",
       "2014-12-08 00:33:26.770                                 1120.67   \n",
       "2014-12-08 00:43:26.835                                 1120.69   \n",
       "\n",
       "                         Device 1---MOD-WMZ08-10-65-160-165-ME1  \\\n",
       "Timestamp                                                         \n",
       "2014-12-08 00:03:26.739                                 1120.58   \n",
       "2014-12-08 00:13:26.751                                 1120.61   \n",
       "2014-12-08 00:23:26.765                                 1120.64   \n",
       "2014-12-08 00:33:26.770                                 1120.67   \n",
       "2014-12-08 00:43:26.835                                 1120.69   \n",
       "\n",
       "                         Device 1---ISP19H004 -ZM UG1 01ZM01  \n",
       "Timestamp                                                     \n",
       "2014-12-08 00:03:26.739                            5515.9653  \n",
       "2014-12-08 00:13:26.751                            5516.1650  \n",
       "2014-12-08 00:23:26.765                            5516.1650  \n",
       "2014-12-08 00:33:26.770                            5516.3650  \n",
       "2014-12-08 00:43:26.835                            5516.3650  "
      ]
     },
     "execution_count": 8,
     "metadata": {},
     "output_type": "execute_result"
    }
   ],
   "source": [
    "#extracting only energy \n",
    "energy_acc=[dev for dev in heat_meters if \"ME1\" in dev]\n",
    "df_sub=df[energy_acc]\n",
    "df_sub.iloc[:,-1]=df_sub.filter(regex=\"WMZ07\") # assuming the WMZ08 meter is consuming the same as WMZ07\n",
    "df_sub=pd.concat([df_sub,df[\"Device 1---ISP19H004 -ZM UG1 01ZM01\"]], axis=1) # adding the correct grass heating\n",
    "# df_sub = pd.to_numeric(df_sub, errors='coerce')\n",
    "df_sub=df_sub.convert_objects(convert_numeric=True, convert_dates=True)\n",
    "df_sub.head()"
   ]
  },
  {
   "cell_type": "code",
   "execution_count": 9,
   "metadata": {
    "collapsed": false
   },
   "outputs": [
    {
     "name": "stdout",
     "output_type": "stream",
     "text": [
      "117.6\n"
     ]
    },
    {
     "name": "stderr",
     "output_type": "stream",
     "text": [
      "C:\\Users\\nle5975\\AppData\\Local\\Continuum\\Anaconda2\\lib\\site-packages\\ipykernel\\__main__.py:1: FutureWarning: convert_objects is deprecated.  Use the data-type specific converters pd.to_datetime, pd.to_timedelta and pd.to_numeric.\n",
      "  if __name__ == '__main__':\n"
     ]
    }
   ],
   "source": [
    "df_sub=df_sub.convert_objects(convert_numeric=True)\n",
    "total_cons=df_sub.tail().iloc[-1][0]-df_sub.head().iloc[-1][0]\n",
    "print total_cons"
   ]
  },
  {
   "cell_type": "code",
   "execution_count": 10,
   "metadata": {
    "collapsed": false
   },
   "outputs": [
    {
     "data": {
      "text/html": [
       "<div>\n",
       "<table border=\"1\" class=\"dataframe\">\n",
       "  <thead>\n",
       "    <tr style=\"text-align: right;\">\n",
       "      <th></th>\n",
       "      <th>Device 1---MOD-WMZ01-10-65-160-157-ME1</th>\n",
       "      <th>Device 1---MOD-WMZ02-10-65-160-159-ME1</th>\n",
       "      <th>Device 1---MOD-WMZ03-10-65-160-159-ME1</th>\n",
       "      <th>Device 1---MOD-WMZ04-10-65-160-159-ME1</th>\n",
       "      <th>Device 1---MOD-WMZ05-10-65-160-159-ME1</th>\n",
       "      <th>Device 1---MOD-WMZ07-10-65-160-164-ME1</th>\n",
       "      <th>Device 1---MOD-WMZ08-10-65-160-165-ME1</th>\n",
       "      <th>Device 1---ISP19H004 -ZM UG1 01ZM01</th>\n",
       "    </tr>\n",
       "    <tr>\n",
       "      <th>Timestamp</th>\n",
       "      <th></th>\n",
       "      <th></th>\n",
       "      <th></th>\n",
       "      <th></th>\n",
       "      <th></th>\n",
       "      <th></th>\n",
       "      <th></th>\n",
       "      <th></th>\n",
       "    </tr>\n",
       "  </thead>\n",
       "  <tbody>\n",
       "    <tr>\n",
       "      <th>2014-12-08 00:03:26.739</th>\n",
       "      <td>NaN</td>\n",
       "      <td>NaN</td>\n",
       "      <td>NaN</td>\n",
       "      <td>NaN</td>\n",
       "      <td>NaN</td>\n",
       "      <td>NaN</td>\n",
       "      <td>NaN</td>\n",
       "      <td>NaN</td>\n",
       "    </tr>\n",
       "    <tr>\n",
       "      <th>2014-12-08 00:13:26.751</th>\n",
       "      <td>0.2</td>\n",
       "      <td>0</td>\n",
       "      <td>0</td>\n",
       "      <td>0</td>\n",
       "      <td>0.02</td>\n",
       "      <td>0.03</td>\n",
       "      <td>0.03</td>\n",
       "      <td>0.1997</td>\n",
       "    </tr>\n",
       "    <tr>\n",
       "      <th>2014-12-08 00:23:26.765</th>\n",
       "      <td>0.2</td>\n",
       "      <td>0</td>\n",
       "      <td>0</td>\n",
       "      <td>0</td>\n",
       "      <td>0.01</td>\n",
       "      <td>0.03</td>\n",
       "      <td>0.03</td>\n",
       "      <td>0.0000</td>\n",
       "    </tr>\n",
       "    <tr>\n",
       "      <th>2014-12-08 00:33:26.770</th>\n",
       "      <td>0.2</td>\n",
       "      <td>0</td>\n",
       "      <td>0</td>\n",
       "      <td>0</td>\n",
       "      <td>0.02</td>\n",
       "      <td>0.03</td>\n",
       "      <td>0.03</td>\n",
       "      <td>0.2000</td>\n",
       "    </tr>\n",
       "    <tr>\n",
       "      <th>2014-12-08 00:43:26.835</th>\n",
       "      <td>0.2</td>\n",
       "      <td>0</td>\n",
       "      <td>0</td>\n",
       "      <td>0</td>\n",
       "      <td>0.01</td>\n",
       "      <td>0.02</td>\n",
       "      <td>0.02</td>\n",
       "      <td>0.0000</td>\n",
       "    </tr>\n",
       "  </tbody>\n",
       "</table>\n",
       "</div>"
      ],
      "text/plain": [
       "                         Device 1---MOD-WMZ01-10-65-160-157-ME1  \\\n",
       "Timestamp                                                         \n",
       "2014-12-08 00:03:26.739                                     NaN   \n",
       "2014-12-08 00:13:26.751                                     0.2   \n",
       "2014-12-08 00:23:26.765                                     0.2   \n",
       "2014-12-08 00:33:26.770                                     0.2   \n",
       "2014-12-08 00:43:26.835                                     0.2   \n",
       "\n",
       "                         Device 1---MOD-WMZ02-10-65-160-159-ME1  \\\n",
       "Timestamp                                                         \n",
       "2014-12-08 00:03:26.739                                     NaN   \n",
       "2014-12-08 00:13:26.751                                       0   \n",
       "2014-12-08 00:23:26.765                                       0   \n",
       "2014-12-08 00:33:26.770                                       0   \n",
       "2014-12-08 00:43:26.835                                       0   \n",
       "\n",
       "                         Device 1---MOD-WMZ03-10-65-160-159-ME1  \\\n",
       "Timestamp                                                         \n",
       "2014-12-08 00:03:26.739                                     NaN   \n",
       "2014-12-08 00:13:26.751                                       0   \n",
       "2014-12-08 00:23:26.765                                       0   \n",
       "2014-12-08 00:33:26.770                                       0   \n",
       "2014-12-08 00:43:26.835                                       0   \n",
       "\n",
       "                         Device 1---MOD-WMZ04-10-65-160-159-ME1  \\\n",
       "Timestamp                                                         \n",
       "2014-12-08 00:03:26.739                                     NaN   \n",
       "2014-12-08 00:13:26.751                                       0   \n",
       "2014-12-08 00:23:26.765                                       0   \n",
       "2014-12-08 00:33:26.770                                       0   \n",
       "2014-12-08 00:43:26.835                                       0   \n",
       "\n",
       "                         Device 1---MOD-WMZ05-10-65-160-159-ME1  \\\n",
       "Timestamp                                                         \n",
       "2014-12-08 00:03:26.739                                     NaN   \n",
       "2014-12-08 00:13:26.751                                    0.02   \n",
       "2014-12-08 00:23:26.765                                    0.01   \n",
       "2014-12-08 00:33:26.770                                    0.02   \n",
       "2014-12-08 00:43:26.835                                    0.01   \n",
       "\n",
       "                         Device 1---MOD-WMZ07-10-65-160-164-ME1  \\\n",
       "Timestamp                                                         \n",
       "2014-12-08 00:03:26.739                                     NaN   \n",
       "2014-12-08 00:13:26.751                                    0.03   \n",
       "2014-12-08 00:23:26.765                                    0.03   \n",
       "2014-12-08 00:33:26.770                                    0.03   \n",
       "2014-12-08 00:43:26.835                                    0.02   \n",
       "\n",
       "                         Device 1---MOD-WMZ08-10-65-160-165-ME1  \\\n",
       "Timestamp                                                         \n",
       "2014-12-08 00:03:26.739                                     NaN   \n",
       "2014-12-08 00:13:26.751                                    0.03   \n",
       "2014-12-08 00:23:26.765                                    0.03   \n",
       "2014-12-08 00:33:26.770                                    0.03   \n",
       "2014-12-08 00:43:26.835                                    0.02   \n",
       "\n",
       "                         Device 1---ISP19H004 -ZM UG1 01ZM01  \n",
       "Timestamp                                                     \n",
       "2014-12-08 00:03:26.739                                  NaN  \n",
       "2014-12-08 00:13:26.751                               0.1997  \n",
       "2014-12-08 00:23:26.765                               0.0000  \n",
       "2014-12-08 00:33:26.770                               0.2000  \n",
       "2014-12-08 00:43:26.835                               0.0000  "
      ]
     },
     "execution_count": 10,
     "metadata": {},
     "output_type": "execute_result"
    }
   ],
   "source": [
    "df_sub=df_sub.diff(periods=1)\n",
    "df_sub.head()"
   ]
  },
  {
   "cell_type": "code",
   "execution_count": 11,
   "metadata": {
    "collapsed": true
   },
   "outputs": [],
   "source": [
    "# ground truth data prepared\n",
    "df_sub= df_sub.resample(ts, how=\"sum\")"
   ]
  },
  {
   "cell_type": "code",
   "execution_count": 12,
   "metadata": {
    "collapsed": true
   },
   "outputs": [],
   "source": [
    "mains_ds=df_sub[\"Device 1---ISP19H004 -ZM UG1 01ZM01\"] + df_sub[\"Device 1---MOD-WMZ07-10-65-160-164-ME1\"]\n",
    "mains_ds=pd.DataFrame(data=mains_ds, columns={'Mains'})"
   ]
  },
  {
   "cell_type": "code",
   "execution_count": 13,
   "metadata": {
    "collapsed": false
   },
   "outputs": [
    {
     "data": {
      "text/plain": [
       "<matplotlib.axes._subplots.AxesSubplot at 0x3d410f0>"
      ]
     },
     "execution_count": 13,
     "metadata": {},
     "output_type": "execute_result"
    },
    {
     "data": {
      "image/png": "[encoded data removed]",
      "text/plain": [
       "<matplotlib.figure.Figure at 0x15b54b38>"
      ]
     },
     "metadata": {},
     "output_type": "display_data"
    }
   ],
   "source": [
    "df_sub[\"Device 1---MOD-WMZ07-10-65-160-164-ME1\"].plot()"
   ]
  },
  {
   "cell_type": "markdown",
   "metadata": {},
   "source": []
  },
  {
   "cell_type": "code",
   "execution_count": 14,
   "metadata": {
    "collapsed": false
   },
   "outputs": [],
   "source": [
    "# collecting all the operational variables for the east office\n",
    "df_office=pd.concat([df[\"Device 1---ISP19H007 -TM UG1 01XC01\"],df[\"Device 1---ISP19H007 -RV UG1 01YB01\"], df[\"Device 1---ISP19H007 -TM UG1 01ZP01\"],df[\"Device 1---ISP19H007 -PU UG1 01RM01\"]], axis=1)\n",
    "temp_diff=df[\"Device 1---MOD-WMZ07-10-65-160-164-ME3\"]- df[\"Device 1---MOD-WMZ07-10-65-160-164-ME4\"]\n",
    "temp_diff= pd.DataFrame(temp_diff, columns={\"Temp_diff_office\"})\n",
    "outside_temp=df[\"Device 1---ISP19H001 -TM UG1 01ME03\"]\n",
    "df_office_op= pd.concat([df_office,  outside_temp, temp_diff ], axis=1)\n",
    "df_office_op=df_office.resample(ts, how=\"mean\")\n",
    "# df_office_op=time_context(df_office_op, \"office\")"
   ]
  },
  {
   "cell_type": "code",
   "execution_count": 15,
   "metadata": {
    "collapsed": false
   },
   "outputs": [
    {
     "data": {
      "text/html": [
       "<div>\n",
       "<table border=\"1\" class=\"dataframe\">\n",
       "  <thead>\n",
       "    <tr style=\"text-align: right;\">\n",
       "      <th></th>\n",
       "      <th>Device 1---ISP19H007 -TM UG1 01XC01</th>\n",
       "      <th>Device 1---ISP19H007 -RV UG1 01YB01</th>\n",
       "      <th>Device 1---ISP19H007 -TM UG1 01ZP01</th>\n",
       "      <th>Device 1---ISP19H007 -PU UG1 01RM01</th>\n",
       "    </tr>\n",
       "    <tr>\n",
       "      <th>Timestamp</th>\n",
       "      <th></th>\n",
       "      <th></th>\n",
       "      <th></th>\n",
       "      <th></th>\n",
       "    </tr>\n",
       "  </thead>\n",
       "  <tbody>\n",
       "    <tr>\n",
       "      <th>2014-12-08 00:00:00</th>\n",
       "      <td>62.021498</td>\n",
       "      <td>56.615144</td>\n",
       "      <td>0</td>\n",
       "      <td>1</td>\n",
       "    </tr>\n",
       "    <tr>\n",
       "      <th>2014-12-08 01:00:00</th>\n",
       "      <td>51.661836</td>\n",
       "      <td>29.104634</td>\n",
       "      <td>1</td>\n",
       "      <td>1</td>\n",
       "    </tr>\n",
       "    <tr>\n",
       "      <th>2014-12-08 02:00:00</th>\n",
       "      <td>51.507698</td>\n",
       "      <td>41.406329</td>\n",
       "      <td>1</td>\n",
       "      <td>1</td>\n",
       "    </tr>\n",
       "    <tr>\n",
       "      <th>2014-12-08 03:00:00</th>\n",
       "      <td>51.610456</td>\n",
       "      <td>48.552704</td>\n",
       "      <td>1</td>\n",
       "      <td>1</td>\n",
       "    </tr>\n",
       "    <tr>\n",
       "      <th>2014-12-08 04:00:00</th>\n",
       "      <td>52.706559</td>\n",
       "      <td>45.724720</td>\n",
       "      <td>1</td>\n",
       "      <td>1</td>\n",
       "    </tr>\n",
       "  </tbody>\n",
       "</table>\n",
       "</div>"
      ],
      "text/plain": [
       "                     Device 1---ISP19H007 -TM UG1 01XC01  \\\n",
       "Timestamp                                                  \n",
       "2014-12-08 00:00:00                            62.021498   \n",
       "2014-12-08 01:00:00                            51.661836   \n",
       "2014-12-08 02:00:00                            51.507698   \n",
       "2014-12-08 03:00:00                            51.610456   \n",
       "2014-12-08 04:00:00                            52.706559   \n",
       "\n",
       "                     Device 1---ISP19H007 -RV UG1 01YB01  \\\n",
       "Timestamp                                                  \n",
       "2014-12-08 00:00:00                            56.615144   \n",
       "2014-12-08 01:00:00                            29.104634   \n",
       "2014-12-08 02:00:00                            41.406329   \n",
       "2014-12-08 03:00:00                            48.552704   \n",
       "2014-12-08 04:00:00                            45.724720   \n",
       "\n",
       "                     Device 1---ISP19H007 -TM UG1 01ZP01  \\\n",
       "Timestamp                                                  \n",
       "2014-12-08 00:00:00                                    0   \n",
       "2014-12-08 01:00:00                                    1   \n",
       "2014-12-08 02:00:00                                    1   \n",
       "2014-12-08 03:00:00                                    1   \n",
       "2014-12-08 04:00:00                                    1   \n",
       "\n",
       "                     Device 1---ISP19H007 -PU UG1 01RM01  \n",
       "Timestamp                                                 \n",
       "2014-12-08 00:00:00                                    1  \n",
       "2014-12-08 01:00:00                                    1  \n",
       "2014-12-08 02:00:00                                    1  \n",
       "2014-12-08 03:00:00                                    1  \n",
       "2014-12-08 04:00:00                                    1  "
      ]
     },
     "execution_count": 15,
     "metadata": {},
     "output_type": "execute_result"
    }
   ],
   "source": [
    "df_office_op.head()"
   ]
  },
  {
   "cell_type": "code",
   "execution_count": 16,
   "metadata": {
    "collapsed": false,
    "scrolled": true
   },
   "outputs": [],
   "source": [
    "# a= np.arange(0, 6*np.pi,0.01)\n",
    "# b= np.array([np.sin(x) for x in a])\n",
    "# c =np.array([np.cos(x) for x in a])\n",
    "# plt.plot(np.correlate(b,c, mode='same'))\n",
    "\n",
    "# from scipy import signal, fftpack\n",
    "# np.argmax(signal.correlate(b,c))\n",
    "# # plt.plot(b)\n",
    "# # plt.plot(c)\n",
    "# # plt.plot(signal.correlate(b,c))"
   ]
  },
  {
   "cell_type": "code",
   "execution_count": 17,
   "metadata": {
    "collapsed": false
   },
   "outputs": [],
   "source": [
    "# plt.plot(a,b)\n",
    "# plt.plot(a,c)"
   ]
  },
  {
   "cell_type": "code",
   "execution_count": 18,
   "metadata": {
    "collapsed": false
   },
   "outputs": [],
   "source": [
    "# np.correlate(df_sub[\"Device 1---MOD-WMZ07-10-65-160-164-ME1\"],df_sub[\"Device 1---MOD-WMZ07-10-65-160-164-ME1\"] )"
   ]
  },
  {
   "cell_type": "code",
   "execution_count": 19,
   "metadata": {
    "collapsed": false
   },
   "outputs": [
    {
     "data": {
      "text/html": [
       "<div>\n",
       "<table border=\"1\" class=\"dataframe\">\n",
       "  <thead>\n",
       "    <tr style=\"text-align: right;\">\n",
       "      <th></th>\n",
       "      <th>Device 1---ISP19H007 -TM UG1 01XC01</th>\n",
       "      <th>Device 1---ISP19H007 -RV UG1 01YB01</th>\n",
       "      <th>Device 1---ISP19H007 -TM UG1 01ZP01</th>\n",
       "      <th>Device 1---ISP19H007 -PU UG1 01RM01</th>\n",
       "    </tr>\n",
       "    <tr>\n",
       "      <th>Timestamp</th>\n",
       "      <th></th>\n",
       "      <th></th>\n",
       "      <th></th>\n",
       "      <th></th>\n",
       "    </tr>\n",
       "  </thead>\n",
       "  <tbody>\n",
       "    <tr>\n",
       "      <th>2014-12-08 00:00:00</th>\n",
       "      <td>62.021498</td>\n",
       "      <td>56.615144</td>\n",
       "      <td>0</td>\n",
       "      <td>1</td>\n",
       "    </tr>\n",
       "    <tr>\n",
       "      <th>2014-12-08 01:00:00</th>\n",
       "      <td>51.661836</td>\n",
       "      <td>29.104634</td>\n",
       "      <td>1</td>\n",
       "      <td>1</td>\n",
       "    </tr>\n",
       "    <tr>\n",
       "      <th>2014-12-08 02:00:00</th>\n",
       "      <td>51.507698</td>\n",
       "      <td>41.406329</td>\n",
       "      <td>1</td>\n",
       "      <td>1</td>\n",
       "    </tr>\n",
       "    <tr>\n",
       "      <th>2014-12-08 03:00:00</th>\n",
       "      <td>51.610456</td>\n",
       "      <td>48.552704</td>\n",
       "      <td>1</td>\n",
       "      <td>1</td>\n",
       "    </tr>\n",
       "    <tr>\n",
       "      <th>2014-12-08 04:00:00</th>\n",
       "      <td>52.706559</td>\n",
       "      <td>45.724720</td>\n",
       "      <td>1</td>\n",
       "      <td>1</td>\n",
       "    </tr>\n",
       "  </tbody>\n",
       "</table>\n",
       "</div>"
      ],
      "text/plain": [
       "                     Device 1---ISP19H007 -TM UG1 01XC01  \\\n",
       "Timestamp                                                  \n",
       "2014-12-08 00:00:00                            62.021498   \n",
       "2014-12-08 01:00:00                            51.661836   \n",
       "2014-12-08 02:00:00                            51.507698   \n",
       "2014-12-08 03:00:00                            51.610456   \n",
       "2014-12-08 04:00:00                            52.706559   \n",
       "\n",
       "                     Device 1---ISP19H007 -RV UG1 01YB01  \\\n",
       "Timestamp                                                  \n",
       "2014-12-08 00:00:00                            56.615144   \n",
       "2014-12-08 01:00:00                            29.104634   \n",
       "2014-12-08 02:00:00                            41.406329   \n",
       "2014-12-08 03:00:00                            48.552704   \n",
       "2014-12-08 04:00:00                            45.724720   \n",
       "\n",
       "                     Device 1---ISP19H007 -TM UG1 01ZP01  \\\n",
       "Timestamp                                                  \n",
       "2014-12-08 00:00:00                                    0   \n",
       "2014-12-08 01:00:00                                    1   \n",
       "2014-12-08 02:00:00                                    1   \n",
       "2014-12-08 03:00:00                                    1   \n",
       "2014-12-08 04:00:00                                    1   \n",
       "\n",
       "                     Device 1---ISP19H007 -PU UG1 01RM01  \n",
       "Timestamp                                                 \n",
       "2014-12-08 00:00:00                                    1  \n",
       "2014-12-08 01:00:00                                    1  \n",
       "2014-12-08 02:00:00                                    1  \n",
       "2014-12-08 03:00:00                                    1  \n",
       "2014-12-08 04:00:00                                    1  "
      ]
     },
     "execution_count": 19,
     "metadata": {},
     "output_type": "execute_result"
    }
   ],
   "source": [
    "df_office_op.head()"
   ]
  },
  {
   "cell_type": "code",
   "execution_count": 20,
   "metadata": {
    "collapsed": false
   },
   "outputs": [],
   "source": [
    "# collecting all the operational variables for  the grass heating system\n",
    "grass_op = [\"Device 1---ISP19H004 -TM UG1 01ME11\",\"Device 1---ISP19H004 -TM UG1 01ME20\",\"Device 1---ISP19H004 -TM UG1 01XS05\",\"Device 1---ISP19H001 -TM UG1 01ME03\", \"Device 1---ISP19H004 -TA UG1 01ST01\", \"Device 1---ISP19H004 -TA UG1 01ST02\", \"Device 1---ISP19H004 -TM UG1 01ZP04\",\"Device 1---ISP19H004 -TM UG1 01ZP05\"]\n",
    "temp_diff=  df['Device 1---ISP19H001 -TM UG1 01ME08']-df[\"Device 1---ISP19H001 -TM UG1 01ME09\"]\n",
    "temp_diff= pd.DataFrame(temp_diff, columns={\"Temp_diff_grass\"})\n",
    "df_grass_op= pd.concat([df[meter] for meter in grass_op], axis=1)\n",
    "df_grass_op= pd.concat([df_grass_op, temp_diff], axis=1)\n",
    "df_grass_op = df_grass_op.resample(ts, how=\"mean\")\n",
    "# df_grass_op=time_context(df_grass_op,\"grass\")"
   ]
  },
  {
   "cell_type": "code",
   "execution_count": 21,
   "metadata": {
    "collapsed": false
   },
   "outputs": [],
   "source": [
    "# pca on df_grass_op\n",
    "from sklearn import decomposition\n",
    "pca= decomposition.PCA(n_components=8,whiten=True)\n",
    "pca.fit(df_grass_op)\n",
    "df_grass_op= pca.transform(df_grass_op)\n",
    "\n",
    "# PCA on df_office\n",
    "pca= decomposition.PCA(whiten=True)\n",
    "pca.fit(df_office_op)\n",
    "df_office_op= pca.transform(df_office_op)"
   ]
  },
  {
   "cell_type": "code",
   "execution_count": 22,
   "metadata": {
    "collapsed": false
   },
   "outputs": [
    {
     "name": "stdout",
     "output_type": "stream",
     "text": [
      "(168L, 8L)\n",
      "(168L, 4L)\n"
     ]
    }
   ],
   "source": [
    "print df_grass_op.shape\n",
    "print df_office_op.shape"
   ]
  },
  {
   "cell_type": "code",
   "execution_count": 24,
   "metadata": {
    "collapsed": false
   },
   "outputs": [],
   "source": [
    "from sklearn.cluster import KMeans, AffinityPropagation\n",
    "from sklearn.mixture import GMM\n",
    "\n",
    "def clustering(data, n_clusters, model):\n",
    "    n_samples=data.shape[0]\n",
    "    if model==\"kmeans\":\n",
    "        kmeans= KMeans(init='k-means++', n_clusters=n_clusters)\n",
    "        kmeans.fit(data.reshape(n_samples, -1))\n",
    "        return kmeans.cluster_centers_, kmeans.labels_, kmeans\n",
    "    if model==\"GMM\":\n",
    "        gmm=GMM(covariance_type='full', n_components=n_clusters)\n",
    "        labels= gmm.fit_predict(data)\n",
    "        return gmm.means_, labels, gmm\n",
    "    if model=='AF':\n",
    "        af=AffinityPropagation(preference=-50).fit(data)\n",
    "        return af.cluster_centers_, af.labels_,af\n",
    "        \n",
    "        "
   ]
  },
  {
   "cell_type": "code",
   "execution_count": 25,
   "metadata": {
    "collapsed": true
   },
   "outputs": [],
   "source": [
    "def rmse(y_est, y):\n",
    "    rmse=np.sqrt(np.mean(np.square(y-y_est)))\n",
    "    return rmse"
   ]
  },
  {
   "cell_type": "code",
   "execution_count": 26,
   "metadata": {
    "collapsed": false
   },
   "outputs": [
    {
     "name": "stdout",
     "output_type": "stream",
     "text": [
      "0.208983146067\n",
      "0.173906521739\n",
      "0.230306060606\n",
      "nan\n",
      "nan\n",
      "nan\n"
     ]
    }
   ],
   "source": [
    "cluster, labels, kmodel=clustering(df_grass_op, 3,\"kmeans\")\n",
    "for i in xrange(6):\n",
    "    print df_sub[\"Device 1---ISP19H004 -ZM UG1 01ZM01\"][labels==i].mean()"
   ]
  },
  {
   "cell_type": "code",
   "execution_count": 27,
   "metadata": {
    "collapsed": false
   },
   "outputs": [],
   "source": [
    "# cluster_vis(df_grass_op, kmodel)"
   ]
  },
  {
   "cell_type": "code",
   "execution_count": 28,
   "metadata": {
    "collapsed": false
   },
   "outputs": [
    {
     "data": {
      "text/plain": [
       "array([[  1.04983870e-09],\n",
       "       [  2.74134210e-01],\n",
       "       [  6.16241877e-01]])"
      ]
     },
     "execution_count": 28,
     "metadata": {},
     "output_type": "execute_result"
    }
   ],
   "source": [
    "cluster_en, labels_office,_= clustering(df_sub.ix[:,\"Device 1---ISP19H004 -ZM UG1 01ZM01\"].reshape(-1,1),3,\"GMM\")\n",
    "cluster_en"
   ]
  },
  {
   "cell_type": "code",
   "execution_count": 29,
   "metadata": {
    "collapsed": false
   },
   "outputs": [
    {
     "name": "stdout",
     "output_type": "stream",
     "text": [
      "0.135\n",
      "0.133194444444\n",
      "0.144210526316\n",
      "0.152325581395\n",
      "0.111666666667\n"
     ]
    }
   ],
   "source": [
    "cluster, labels, model=clustering(df_office_op, 3, \"AF\")\n",
    "for i in xrange(5):\n",
    "    print df_sub[\"Device 1---MOD-WMZ07-10-65-160-164-ME1\"][labels==i].mean()"
   ]
  },
  {
   "cell_type": "code",
   "execution_count": 30,
   "metadata": {
    "collapsed": false
   },
   "outputs": [
    {
     "name": "stdout",
     "output_type": "stream",
     "text": [
      "[<matplotlib.lines.Line2D object at 0x0000000011768B70>]\n",
      "[<matplotlib.lines.Line2D object at 0x000000000A460B38>]\n",
      "[<matplotlib.lines.Line2D object at 0x0000000011768D30>]\n",
      "[<matplotlib.lines.Line2D object at 0x00000000159CACC0>]\n",
      "[<matplotlib.lines.Line2D object at 0x00000000159CAD68>]\n",
      "[<matplotlib.lines.Line2D object at 0x00000000159CAE48>]\n",
      "[<matplotlib.lines.Line2D object at 0x000000000D3339B0>]\n"
     ]
    },
    {
     "data": {
      "image/png": "[encoded data removed]",
      "text/plain": [
       "<matplotlib.figure.Figure at 0xa460b70>"
      ]
     },
     "metadata": {},
     "output_type": "display_data"
    }
   ],
   "source": [
    "df_temp= df_sub[\"Device 1---MOD-WMZ07-10-65-160-164-ME1\"].groupby([df_sub.index.day], group_keys=True)\n",
    "for k, gb in df_temp:\n",
    "    print plt.plot(df_temp.get_group(k).index.hour, df_temp.get_group(k).values)"
   ]
  },
  {
   "cell_type": "code",
   "execution_count": 31,
   "metadata": {
    "collapsed": false
   },
   "outputs": [
    {
     "name": "stdout",
     "output_type": "stream",
     "text": [
      "[<matplotlib.lines.Line2D object at 0x00000000151005F8>]\n",
      "[<matplotlib.lines.Line2D object at 0x000000000D333518>]\n",
      "[<matplotlib.lines.Line2D object at 0x0000000015100CC0>]\n",
      "[<matplotlib.lines.Line2D object at 0x0000000015100DA0>]\n",
      "[<matplotlib.lines.Line2D object at 0x000000001510FCC0>]\n",
      "[<matplotlib.lines.Line2D object at 0x000000001510FD68>]\n",
      "[<matplotlib.lines.Line2D object at 0x0000000010E9E438>]\n"
     ]
    },
    {
     "data": {
      "image/png": "[encoded data removed]",
      "text/plain": [
       "<matplotlib.figure.Figure at 0x159d7e10>"
      ]
     },
     "metadata": {},
     "output_type": "display_data"
    }
   ],
   "source": [
    "df_temp= df_sub[\"Device 1---ISP19H004 -ZM UG1 01ZM01\"].groupby([df_sub.index.day], group_keys=True)\n",
    "for k, gb in df_temp:\n",
    "    print plt.plot(df_temp.get_group(k).index.hour, df_temp.get_group(k).values)"
   ]
  },
  {
   "cell_type": "code",
   "execution_count": 32,
   "metadata": {
    "collapsed": false
   },
   "outputs": [
    {
     "data": {
      "text/plain": [
       "array([[  1.98319702e-01],\n",
       "       [  4.01968554e-05],\n",
       "       [  1.97733549e-01]])"
      ]
     },
     "execution_count": 32,
     "metadata": {},
     "output_type": "execute_result"
    }
   ],
   "source": [
    "cluster_en, labels_office,_= clustering(df_sub.ix[1:,\"Device 1---MOD-WMZ07-10-65-160-164-ME1\"].reshape(-1,1),3,\"GMM\")\n",
    "cluster_en"
   ]
  },
  {
   "cell_type": "code",
   "execution_count": 33,
   "metadata": {
    "collapsed": false
   },
   "outputs": [],
   "source": [
    "appliances ={'grass': df_grass_op, 'office_east': df_office_op}"
   ]
  },
  {
   "cell_type": "code",
   "execution_count": 34,
   "metadata": {
    "collapsed": false
   },
   "outputs": [],
   "source": [
    "def optimal_state(state_list, state_labels, appliance_name):\n",
    "    num_states=len(state_list)\n",
    "    states_table=pd.DataFrame(index=state_labels.index)\n",
    "    for i in xrange(num_states):\n",
    "        states_table[\"{}{}\".format(appliance_name, i+1)]=(state_labels==i)\n",
    "    return states_table.astype(np.int8)"
   ]
  },
  {
   "cell_type": "code",
   "execution_count": 35,
   "metadata": {
    "collapsed": false
   },
   "outputs": [],
   "source": [
    "state_centres={}\n",
    "states_table= pd.DataFrame()\n",
    "appliance_states=pd.DataFrame(index=df_sub.index, columns=appliances.keys())\n",
    "for appliance,_ in appliances.iteritems():\n",
    "    state_centres[appliance], appliance_states[appliance],_=clustering(appliances[appliance],3, \"kmeans\")\n",
    "    states_table = pd.concat([states_table, optimal_state(state_centres[appliance], appliance_states[appliance], appliance)], axis=1)"
   ]
  },
  {
   "cell_type": "code",
   "execution_count": 36,
   "metadata": {
    "collapsed": false,
    "scrolled": true
   },
   "outputs": [
    {
     "data": {
      "text/html": [
       "<div>\n",
       "<table border=\"1\" class=\"dataframe\">\n",
       "  <thead>\n",
       "    <tr style=\"text-align: right;\">\n",
       "      <th></th>\n",
       "      <th>grass1</th>\n",
       "      <th>grass2</th>\n",
       "      <th>grass3</th>\n",
       "      <th>office_east1</th>\n",
       "      <th>office_east2</th>\n",
       "      <th>office_east3</th>\n",
       "    </tr>\n",
       "    <tr>\n",
       "      <th>Timestamp</th>\n",
       "      <th></th>\n",
       "      <th></th>\n",
       "      <th></th>\n",
       "      <th></th>\n",
       "      <th></th>\n",
       "      <th></th>\n",
       "    </tr>\n",
       "  </thead>\n",
       "  <tbody>\n",
       "    <tr>\n",
       "      <th>2014-12-08 00:00:00</th>\n",
       "      <td>1</td>\n",
       "      <td>0</td>\n",
       "      <td>0</td>\n",
       "      <td>0</td>\n",
       "      <td>1</td>\n",
       "      <td>0</td>\n",
       "    </tr>\n",
       "    <tr>\n",
       "      <th>2014-12-08 01:00:00</th>\n",
       "      <td>1</td>\n",
       "      <td>0</td>\n",
       "      <td>0</td>\n",
       "      <td>1</td>\n",
       "      <td>0</td>\n",
       "      <td>0</td>\n",
       "    </tr>\n",
       "    <tr>\n",
       "      <th>2014-12-08 02:00:00</th>\n",
       "      <td>0</td>\n",
       "      <td>0</td>\n",
       "      <td>1</td>\n",
       "      <td>1</td>\n",
       "      <td>0</td>\n",
       "      <td>0</td>\n",
       "    </tr>\n",
       "    <tr>\n",
       "      <th>2014-12-08 03:00:00</th>\n",
       "      <td>0</td>\n",
       "      <td>0</td>\n",
       "      <td>1</td>\n",
       "      <td>1</td>\n",
       "      <td>0</td>\n",
       "      <td>0</td>\n",
       "    </tr>\n",
       "    <tr>\n",
       "      <th>2014-12-08 04:00:00</th>\n",
       "      <td>0</td>\n",
       "      <td>0</td>\n",
       "      <td>1</td>\n",
       "      <td>1</td>\n",
       "      <td>0</td>\n",
       "      <td>0</td>\n",
       "    </tr>\n",
       "  </tbody>\n",
       "</table>\n",
       "</div>"
      ],
      "text/plain": [
       "                     grass1  grass2  grass3  office_east1  office_east2  \\\n",
       "Timestamp                                                                 \n",
       "2014-12-08 00:00:00       1       0       0             0             1   \n",
       "2014-12-08 01:00:00       1       0       0             1             0   \n",
       "2014-12-08 02:00:00       0       0       1             1             0   \n",
       "2014-12-08 03:00:00       0       0       1             1             0   \n",
       "2014-12-08 04:00:00       0       0       1             1             0   \n",
       "\n",
       "                     office_east3  \n",
       "Timestamp                          \n",
       "2014-12-08 00:00:00             0  \n",
       "2014-12-08 01:00:00             0  \n",
       "2014-12-08 02:00:00             0  \n",
       "2014-12-08 03:00:00             0  \n",
       "2014-12-08 04:00:00             0  "
      ]
     },
     "execution_count": 36,
     "metadata": {},
     "output_type": "execute_result"
    }
   ],
   "source": [
    "states_table.head()"
   ]
  },
  {
   "cell_type": "code",
   "execution_count": 47,
   "metadata": {
    "collapsed": false
   },
   "outputs": [],
   "source": [
    "# multistate\n",
    "from collections import defaultdict\n",
    "t_est=12\n",
    "nep_history={}\n",
    "nep_hour_history={}\n",
    "fraction_history=defaultdict(list)\n",
    "fraction_agg_history=defaultdict(list)\n",
    "for k, v in appliances.iteritems():\n",
    "    nep_history[\"{}\".format(k)]=defaultdict(list)\n",
    "    nep_hour_history[\"{}\".format(k)]=defaultdict(list)\n",
    "\n",
    "data=states_table\n",
    "data[\"Ghost_Power\"]=1\n",
    "data= pd.concat([data,mains_ds[\"Mains\"]], axis=1)\n",
    "# creating the data table that will be used for disaggregation\n",
    "i=states_table.index[0]\n",
    "disagg_power_ds = pd.DataFrame(data=np.nan, index=states_table.index, columns= states_table.columns.tolist())\n",
    "# disaggregating power over intervals of T_est ( estimation periods)\n",
    "while i <= (states_table.tail(n=1).index):\n",
    "    start_time=i\n",
    "    end_time=i+timedelta(hours=t_est)\n",
    "#             data=data_table_ds[start_time:end_time].dropna(axis=0)\n",
    "    data_ds=data[start_time:end_time]\n",
    "    optim,optim_var = disagg_chunk(data_ds)\n",
    "    disagg_power_ds.loc[start_time:end_time,:]=optim.x\n",
    "    i+=timedelta(hours=t_est)\n",
    "#         for k, v in disagg_power_ds.iteritems():\n",
    "#             if k<>\"Ghost_Power\":\n",
    "#                 nep, nep_hour=error_metrics(appliances_ds[k],disagg_power_ds[k], data_table_ds[k] )\n",
    "#                 nep_history[\"{}\".format(k)][sf].append(nep)  \n",
    "#                 nep_hour_history[\"{}\".format(k)][sf].append(nep_hour) \n",
    "#         fraction_accuracy, fraction_agg_accuracy=fraction_accuracy_metrics(appliances_ds, disagg_power_ds, data_table_ds)\n",
    "#         print sf, fraction_accuracy, fraction_agg_accuracy\n",
    "#         fraction_history[\"{}\".format(sf)].append(fraction_accuracy)\n",
    "#         fraction_agg_history[\"{}\".format(sf)].append(fraction_agg_accuracy)"
   ]
  },
  {
   "cell_type": "code",
   "execution_count": 48,
   "metadata": {
    "collapsed": false
   },
   "outputs": [],
   "source": [
    "grass_states = [state for state in states_table.columns.tolist() if \"grass\" in state]"
   ]
  },
  {
   "cell_type": "code",
   "execution_count": 49,
   "metadata": {
    "collapsed": false,
    "scrolled": false
   },
   "outputs": [
    {
     "data": {
      "text/html": [
       "<div>\n",
       "<table border=\"1\" class=\"dataframe\">\n",
       "  <thead>\n",
       "    <tr style=\"text-align: right;\">\n",
       "      <th></th>\n",
       "      <th>grass1</th>\n",
       "      <th>grass2</th>\n",
       "      <th>grass3</th>\n",
       "      <th>office_east1</th>\n",
       "      <th>office_east2</th>\n",
       "      <th>office_east3</th>\n",
       "      <th>Ghost_Power</th>\n",
       "    </tr>\n",
       "    <tr>\n",
       "      <th>Timestamp</th>\n",
       "      <th></th>\n",
       "      <th></th>\n",
       "      <th></th>\n",
       "      <th></th>\n",
       "      <th></th>\n",
       "      <th></th>\n",
       "      <th></th>\n",
       "    </tr>\n",
       "  </thead>\n",
       "  <tbody>\n",
       "    <tr>\n",
       "      <th>2014-12-08 00:00:00</th>\n",
       "      <td>0.162911</td>\n",
       "      <td>1</td>\n",
       "      <td>0.230966</td>\n",
       "      <td>0.500222</td>\n",
       "      <td>0.062956</td>\n",
       "      <td>1</td>\n",
       "      <td>0.105723</td>\n",
       "    </tr>\n",
       "    <tr>\n",
       "      <th>2014-12-08 01:00:00</th>\n",
       "      <td>0.162911</td>\n",
       "      <td>1</td>\n",
       "      <td>0.230966</td>\n",
       "      <td>0.500222</td>\n",
       "      <td>0.062956</td>\n",
       "      <td>1</td>\n",
       "      <td>0.105723</td>\n",
       "    </tr>\n",
       "    <tr>\n",
       "      <th>2014-12-08 02:00:00</th>\n",
       "      <td>0.162911</td>\n",
       "      <td>1</td>\n",
       "      <td>0.230966</td>\n",
       "      <td>0.500222</td>\n",
       "      <td>0.062956</td>\n",
       "      <td>1</td>\n",
       "      <td>0.105723</td>\n",
       "    </tr>\n",
       "    <tr>\n",
       "      <th>2014-12-08 03:00:00</th>\n",
       "      <td>0.162911</td>\n",
       "      <td>1</td>\n",
       "      <td>0.230966</td>\n",
       "      <td>0.500222</td>\n",
       "      <td>0.062956</td>\n",
       "      <td>1</td>\n",
       "      <td>0.105723</td>\n",
       "    </tr>\n",
       "    <tr>\n",
       "      <th>2014-12-08 04:00:00</th>\n",
       "      <td>0.162911</td>\n",
       "      <td>1</td>\n",
       "      <td>0.230966</td>\n",
       "      <td>0.500222</td>\n",
       "      <td>0.062956</td>\n",
       "      <td>1</td>\n",
       "      <td>0.105723</td>\n",
       "    </tr>\n",
       "  </tbody>\n",
       "</table>\n",
       "</div>"
      ],
      "text/plain": [
       "                       grass1  grass2    grass3  office_east1  office_east2  \\\n",
       "Timestamp                                                                     \n",
       "2014-12-08 00:00:00  0.162911       1  0.230966      0.500222      0.062956   \n",
       "2014-12-08 01:00:00  0.162911       1  0.230966      0.500222      0.062956   \n",
       "2014-12-08 02:00:00  0.162911       1  0.230966      0.500222      0.062956   \n",
       "2014-12-08 03:00:00  0.162911       1  0.230966      0.500222      0.062956   \n",
       "2014-12-08 04:00:00  0.162911       1  0.230966      0.500222      0.062956   \n",
       "\n",
       "                     office_east3  Ghost_Power  \n",
       "Timestamp                                       \n",
       "2014-12-08 00:00:00             1     0.105723  \n",
       "2014-12-08 01:00:00             1     0.105723  \n",
       "2014-12-08 02:00:00             1     0.105723  \n",
       "2014-12-08 03:00:00             1     0.105723  \n",
       "2014-12-08 04:00:00             1     0.105723  "
      ]
     },
     "execution_count": 49,
     "metadata": {},
     "output_type": "execute_result"
    }
   ],
   "source": [
    "disagg_power_ds.head()"
   ]
  },
  {
   "cell_type": "code",
   "execution_count": 50,
   "metadata": {
    "collapsed": false,
    "scrolled": false
   },
   "outputs": [
    {
     "data": {
      "text/html": [
       "<div>\n",
       "<table border=\"1\" class=\"dataframe\">\n",
       "  <thead>\n",
       "    <tr style=\"text-align: right;\">\n",
       "      <th></th>\n",
       "      <th>grass1</th>\n",
       "      <th>grass2</th>\n",
       "      <th>grass3</th>\n",
       "      <th>office_east1</th>\n",
       "      <th>office_east2</th>\n",
       "      <th>office_east3</th>\n",
       "      <th>Ghost_Power</th>\n",
       "    </tr>\n",
       "    <tr>\n",
       "      <th>Timestamp</th>\n",
       "      <th></th>\n",
       "      <th></th>\n",
       "      <th></th>\n",
       "      <th></th>\n",
       "      <th></th>\n",
       "      <th></th>\n",
       "      <th></th>\n",
       "    </tr>\n",
       "  </thead>\n",
       "  <tbody>\n",
       "    <tr>\n",
       "      <th>2014-12-08 00:00:00</th>\n",
       "      <td>0.162911</td>\n",
       "      <td>0</td>\n",
       "      <td>0.000000</td>\n",
       "      <td>0.000000</td>\n",
       "      <td>0.062956</td>\n",
       "      <td>0</td>\n",
       "      <td>0.105723</td>\n",
       "    </tr>\n",
       "    <tr>\n",
       "      <th>2014-12-08 01:00:00</th>\n",
       "      <td>0.162911</td>\n",
       "      <td>0</td>\n",
       "      <td>0.000000</td>\n",
       "      <td>0.500222</td>\n",
       "      <td>0.000000</td>\n",
       "      <td>0</td>\n",
       "      <td>0.105723</td>\n",
       "    </tr>\n",
       "    <tr>\n",
       "      <th>2014-12-08 02:00:00</th>\n",
       "      <td>0.000000</td>\n",
       "      <td>0</td>\n",
       "      <td>0.230966</td>\n",
       "      <td>0.500222</td>\n",
       "      <td>0.000000</td>\n",
       "      <td>0</td>\n",
       "      <td>0.105723</td>\n",
       "    </tr>\n",
       "    <tr>\n",
       "      <th>2014-12-08 03:00:00</th>\n",
       "      <td>0.000000</td>\n",
       "      <td>0</td>\n",
       "      <td>0.230966</td>\n",
       "      <td>0.500222</td>\n",
       "      <td>0.000000</td>\n",
       "      <td>0</td>\n",
       "      <td>0.105723</td>\n",
       "    </tr>\n",
       "    <tr>\n",
       "      <th>2014-12-08 04:00:00</th>\n",
       "      <td>0.000000</td>\n",
       "      <td>0</td>\n",
       "      <td>0.230966</td>\n",
       "      <td>0.500222</td>\n",
       "      <td>0.000000</td>\n",
       "      <td>0</td>\n",
       "      <td>0.105723</td>\n",
       "    </tr>\n",
       "  </tbody>\n",
       "</table>\n",
       "</div>"
      ],
      "text/plain": [
       "                       grass1  grass2    grass3  office_east1  office_east2  \\\n",
       "Timestamp                                                                     \n",
       "2014-12-08 00:00:00  0.162911       0  0.000000      0.000000      0.062956   \n",
       "2014-12-08 01:00:00  0.162911       0  0.000000      0.500222      0.000000   \n",
       "2014-12-08 02:00:00  0.000000       0  0.230966      0.500222      0.000000   \n",
       "2014-12-08 03:00:00  0.000000       0  0.230966      0.500222      0.000000   \n",
       "2014-12-08 04:00:00  0.000000       0  0.230966      0.500222      0.000000   \n",
       "\n",
       "                     office_east3  Ghost_Power  \n",
       "Timestamp                                       \n",
       "2014-12-08 00:00:00             0     0.105723  \n",
       "2014-12-08 01:00:00             0     0.105723  \n",
       "2014-12-08 02:00:00             0     0.105723  \n",
       "2014-12-08 03:00:00             0     0.105723  \n",
       "2014-12-08 04:00:00             0     0.105723  "
      ]
     },
     "execution_count": 50,
     "metadata": {},
     "output_type": "execute_result"
    }
   ],
   "source": [
    "energy= states_table*disagg_power_ds\n",
    "energy.head()"
   ]
  },
  {
   "cell_type": "code",
   "execution_count": 51,
   "metadata": {
    "collapsed": true
   },
   "outputs": [],
   "source": [
    "grass_disagg=energy.iloc[:,:3].sum(axis=1)"
   ]
  },
  {
   "cell_type": "code",
   "execution_count": 52,
   "metadata": {
    "collapsed": false,
    "scrolled": true
   },
   "outputs": [
    {
     "data": {
      "text/plain": [
       "<matplotlib.legend.Legend at 0x15eab9b0>"
      ]
     },
     "execution_count": 52,
     "metadata": {},
     "output_type": "execute_result"
    },
    {
     "data": {
      "image/png": "[encoded data removed]",
      "text/plain": [
       "<matplotlib.figure.Figure at 0x152f1198>"
      ]
     },
     "metadata": {},
     "output_type": "display_data"
    }
   ],
   "source": [
    "plt.figure(figsize=(20,6))\n",
    "plt.plot(grass_disagg)\n",
    "df_sub[\"Device 1---ISP19H004 -ZM UG1 01ZM01\"].plot()\n",
    "plt.legend()"
   ]
  },
  {
   "cell_type": "code",
   "execution_count": 53,
   "metadata": {
    "collapsed": true
   },
   "outputs": [],
   "source": [
    "office_disagg=energy.iloc[:,3:6].sum(axis=1)"
   ]
  },
  {
   "cell_type": "code",
   "execution_count": 54,
   "metadata": {
    "collapsed": false,
    "scrolled": true
   },
   "outputs": [
    {
     "data": {
      "text/plain": [
       "<matplotlib.legend.Legend at 0x10eb3cc0>"
      ]
     },
     "execution_count": 54,
     "metadata": {},
     "output_type": "execute_result"
    },
    {
     "data": {
      "image/png": "[encoded data removed]",
      "text/plain": [
       "<matplotlib.figure.Figure at 0x15e935c0>"
      ]
     },
     "metadata": {},
     "output_type": "display_data"
    }
   ],
   "source": [
    "plt.figure(figsize=(20,6))\n",
    "plt.plot(office_disagg)\n",
    "df_sub[\"Device 1---MOD-WMZ07-10-65-160-164-ME1\"].plot()\n",
    "plt.legend()"
   ]
  },
  {
   "cell_type": "code",
   "execution_count": 57,
   "metadata": {
    "collapsed": false
   },
   "outputs": [
    {
     "name": "stdout",
     "output_type": "stream",
     "text": [
      "0.00709822560916\n",
      "0.00488762213403\n"
     ]
    }
   ],
   "source": [
    "print rmse(grass_disagg.values,df_sub[\"Device 1---ISP19H004 -ZM UG1 01ZM01\"].values)/df_sub[\"Device 1---ISP19H004 -ZM UG1 01ZM01\"].sum()\n",
    "print rmse(office_disagg.values, df_sub[\"Device 1---MOD-WMZ07-10-65-160-164-ME1\"].values)/df_sub[\"Device 1---MOD-WMZ07-10-65-160-164-ME1\"].sum()"
   ]
  },
  {
   "cell_type": "code",
   "execution_count": 56,
   "metadata": {
    "collapsed": false
   },
   "outputs": [
    {
     "data": {
      "text/html": [
       "<div>\n",
       "<table border=\"1\" class=\"dataframe\">\n",
       "  <thead>\n",
       "    <tr style=\"text-align: right;\">\n",
       "      <th></th>\n",
       "      <th>Device 1---MOD-WMZ01-10-65-160-157-ME1</th>\n",
       "      <th>Device 1---MOD-WMZ02-10-65-160-159-ME1</th>\n",
       "      <th>Device 1---MOD-WMZ03-10-65-160-159-ME1</th>\n",
       "      <th>Device 1---MOD-WMZ04-10-65-160-159-ME1</th>\n",
       "      <th>Device 1---MOD-WMZ05-10-65-160-159-ME1</th>\n",
       "      <th>Device 1---MOD-WMZ07-10-65-160-164-ME1</th>\n",
       "      <th>Device 1---MOD-WMZ08-10-65-160-165-ME1</th>\n",
       "      <th>Device 1---ISP19H004 -ZM UG1 01ZM01</th>\n",
       "    </tr>\n",
       "    <tr>\n",
       "      <th>Timestamp</th>\n",
       "      <th></th>\n",
       "      <th></th>\n",
       "      <th></th>\n",
       "      <th></th>\n",
       "      <th></th>\n",
       "      <th></th>\n",
       "      <th></th>\n",
       "      <th></th>\n",
       "    </tr>\n",
       "  </thead>\n",
       "  <tbody>\n",
       "    <tr>\n",
       "      <th>2014-12-08 00:00:00</th>\n",
       "      <td>1.0</td>\n",
       "      <td>0</td>\n",
       "      <td>0</td>\n",
       "      <td>0.00</td>\n",
       "      <td>0.07</td>\n",
       "      <td>0.15</td>\n",
       "      <td>0.15</td>\n",
       "      <td>0.6001</td>\n",
       "    </tr>\n",
       "    <tr>\n",
       "      <th>2014-12-08 01:00:00</th>\n",
       "      <td>1.3</td>\n",
       "      <td>0</td>\n",
       "      <td>0</td>\n",
       "      <td>0.02</td>\n",
       "      <td>0.07</td>\n",
       "      <td>0.17</td>\n",
       "      <td>0.17</td>\n",
       "      <td>0.7996</td>\n",
       "    </tr>\n",
       "    <tr>\n",
       "      <th>2014-12-08 02:00:00</th>\n",
       "      <td>1.2</td>\n",
       "      <td>0</td>\n",
       "      <td>0</td>\n",
       "      <td>0.01</td>\n",
       "      <td>0.06</td>\n",
       "      <td>0.17</td>\n",
       "      <td>0.17</td>\n",
       "      <td>0.6003</td>\n",
       "    </tr>\n",
       "    <tr>\n",
       "      <th>2014-12-08 03:00:00</th>\n",
       "      <td>1.0</td>\n",
       "      <td>0</td>\n",
       "      <td>0</td>\n",
       "      <td>0.01</td>\n",
       "      <td>0.03</td>\n",
       "      <td>0.16</td>\n",
       "      <td>0.16</td>\n",
       "      <td>0.6001</td>\n",
       "    </tr>\n",
       "    <tr>\n",
       "      <th>2014-12-08 04:00:00</th>\n",
       "      <td>1.2</td>\n",
       "      <td>0</td>\n",
       "      <td>0</td>\n",
       "      <td>0.02</td>\n",
       "      <td>0.02</td>\n",
       "      <td>0.18</td>\n",
       "      <td>0.18</td>\n",
       "      <td>0.5996</td>\n",
       "    </tr>\n",
       "  </tbody>\n",
       "</table>\n",
       "</div>"
      ],
      "text/plain": [
       "                     Device 1---MOD-WMZ01-10-65-160-157-ME1  \\\n",
       "Timestamp                                                     \n",
       "2014-12-08 00:00:00                                     1.0   \n",
       "2014-12-08 01:00:00                                     1.3   \n",
       "2014-12-08 02:00:00                                     1.2   \n",
       "2014-12-08 03:00:00                                     1.0   \n",
       "2014-12-08 04:00:00                                     1.2   \n",
       "\n",
       "                     Device 1---MOD-WMZ02-10-65-160-159-ME1  \\\n",
       "Timestamp                                                     \n",
       "2014-12-08 00:00:00                                       0   \n",
       "2014-12-08 01:00:00                                       0   \n",
       "2014-12-08 02:00:00                                       0   \n",
       "2014-12-08 03:00:00                                       0   \n",
       "2014-12-08 04:00:00                                       0   \n",
       "\n",
       "                     Device 1---MOD-WMZ03-10-65-160-159-ME1  \\\n",
       "Timestamp                                                     \n",
       "2014-12-08 00:00:00                                       0   \n",
       "2014-12-08 01:00:00                                       0   \n",
       "2014-12-08 02:00:00                                       0   \n",
       "2014-12-08 03:00:00                                       0   \n",
       "2014-12-08 04:00:00                                       0   \n",
       "\n",
       "                     Device 1---MOD-WMZ04-10-65-160-159-ME1  \\\n",
       "Timestamp                                                     \n",
       "2014-12-08 00:00:00                                    0.00   \n",
       "2014-12-08 01:00:00                                    0.02   \n",
       "2014-12-08 02:00:00                                    0.01   \n",
       "2014-12-08 03:00:00                                    0.01   \n",
       "2014-12-08 04:00:00                                    0.02   \n",
       "\n",
       "                     Device 1---MOD-WMZ05-10-65-160-159-ME1  \\\n",
       "Timestamp                                                     \n",
       "2014-12-08 00:00:00                                    0.07   \n",
       "2014-12-08 01:00:00                                    0.07   \n",
       "2014-12-08 02:00:00                                    0.06   \n",
       "2014-12-08 03:00:00                                    0.03   \n",
       "2014-12-08 04:00:00                                    0.02   \n",
       "\n",
       "                     Device 1---MOD-WMZ07-10-65-160-164-ME1  \\\n",
       "Timestamp                                                     \n",
       "2014-12-08 00:00:00                                    0.15   \n",
       "2014-12-08 01:00:00                                    0.17   \n",
       "2014-12-08 02:00:00                                    0.17   \n",
       "2014-12-08 03:00:00                                    0.16   \n",
       "2014-12-08 04:00:00                                    0.18   \n",
       "\n",
       "                     Device 1---MOD-WMZ08-10-65-160-165-ME1  \\\n",
       "Timestamp                                                     \n",
       "2014-12-08 00:00:00                                    0.15   \n",
       "2014-12-08 01:00:00                                    0.17   \n",
       "2014-12-08 02:00:00                                    0.17   \n",
       "2014-12-08 03:00:00                                    0.16   \n",
       "2014-12-08 04:00:00                                    0.18   \n",
       "\n",
       "                     Device 1---ISP19H004 -ZM UG1 01ZM01  \n",
       "Timestamp                                                 \n",
       "2014-12-08 00:00:00                               0.6001  \n",
       "2014-12-08 01:00:00                               0.7996  \n",
       "2014-12-08 02:00:00                               0.6003  \n",
       "2014-12-08 03:00:00                               0.6001  \n",
       "2014-12-08 04:00:00                               0.5996  "
      ]
     },
     "execution_count": 56,
     "metadata": {},
     "output_type": "execute_result"
    }
   ],
   "source": [
    "df_sub.head()"
   ]
  }
 ],
 "metadata": {
  "kernelspec": {
   "display_name": "Python 2",
   "language": "python",
   "name": "python2"
  },
  "language_info": {
   "codemirror_mode": {
    "name": "ipython",
    "version": 2
   },
   "file_extension": ".py",
   "mimetype": "text/x-python",
   "name": "python",
   "nbconvert_exporter": "python",
   "pygments_lexer": "ipython2",
   "version": "2.7.11"
  }
 },
 "nbformat": 4,
 "nbformat_minor": 0
}
